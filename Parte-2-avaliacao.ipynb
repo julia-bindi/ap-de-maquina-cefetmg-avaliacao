{
 "cells": [
  {
   "cell_type": "markdown",
   "metadata": {},
   "source": [
    "## Antes de começar..."
   ]
  },
  {
   "cell_type": "markdown",
   "metadata": {},
   "source": [
    "Lembre-se, que em python, podemos passar inclusive classes por parametros:"
   ]
  },
  {
   "cell_type": "code",
   "execution_count": 1,
   "metadata": {},
   "outputs": [
    {
     "name": "stdout",
     "output_type": "stream",
     "text": [
      "Numero: 99\n",
      "Numero: 101\n"
     ]
    }
   ],
   "source": [
    "class Xuxu:\n",
    "    def __init__(self, num):\n",
    "        self.num = num-1\n",
    "class Xaxa:\n",
    "    def __init__(self, num):\n",
    "        self.num = num+1\n",
    "\n",
    "def kaka(ClasseXuxuOuXaxa):\n",
    "    obj = ClasseXuxuOuXaxa(100)\n",
    "    print(f\"Numero: {obj.num}\")\n",
    "\n",
    "kaka(Xuxu)\n",
    "kaka(Xaxa)"
   ]
  },
  {
   "cell_type": "markdown",
   "metadata": {},
   "source": [
    "## Avaliação e Otimização de Parametros"
   ]
  },
  {
   "cell_type": "markdown",
   "metadata": {},
   "source": [
    "Cada método possui alguns parametros a serem ajustados. Alguns parametros são essenciais para, por exemplo, diminuir o _overfitting_ e conseguirmos um modelo que faça predições com menos erros possíveis. Assim, dado os parametros $(p_1, p_2, p_3)$ nosso objetivo é encontrar uma solução ótima, ou seja, valores de $p_1$, $p_2$ e $p_3$ que maximiza o resultado (por meio de Macro F1 ou acurácia, por exemplo).\n",
    "\n",
    "Por exemplo, a implementação de árvore de decisão do Scikitlearn, temos o parametro `min_samples` que define o mínimo de exemplos necessários para que um nodo da árvore efetue a divisão. Como é inviável testarmos todos os paramtros podemos variá-lo, por exemplo, de 0.1 em 0.1 passos entre 0.1 e 0.9 para tentarmos encontrar a solução ótima. \n",
    "\n",
    "O algoritmo RandomForest possui mais parametros além do `min_samples_split` (que é o equivalente ao min_samples da árvore de decisão), por exemplo, a porcentagem de atributos (features) que será considerada para a divisão  de uma determinada árvore (`max_features`). Como esses dois parametros afetam muito o resultado, nosso *objetivo* é encontrar o valor `min_samples_split` e `max_features` que *maximizam* o resultado. Similarmente a uma arvore de decisão, como o treinamento de um método de aprendizado de máquina é custoso, avaliar muitos parametros pode ser inviável, por isso, poderiamos variar cada parametro da seguinte forma: \n",
    "\n",
    "- min_samples_split: {0.1, 0,2, ...,0.9}\n",
    "- max_features: {0.1, 0,2, ...,0.9}\n",
    "\n",
    "Com essa quantidade de parametro podemos fazer um [GridSearch]() nele, testamos todas as combinações ou seja, para cada `min_sample_split`, você testará todos os valores `max_features` (${0.1, 0,2, ...,0.9}$). Porém, mesmo assim, o GridSearch pode ficar inviável se quiséssemos colocar mais parametros. Por  exemplo, um outro parametro importante neste método é o número de árvores que o algoritmo irá utilizar (`n_estimators`) que poderiamos variar da seguinte forma:\n",
    "\n",
    "- n_estimators: {1, 20, 40, 60, 80, 100}\n",
    "\n",
    "Porém, mesmo com apenas 5 valores, a quantidade de combinações que precisariamos testar seria 5 vezes mais.  Além disso, não conseguimos explorar bem o espaço de busca. Por exemplo, vamos supor que a solução ótima seria com 30 árvores, max_features=0.15 e min_samples_split=0.35, ou seja, esta seria a solução que maximizaria o resultado. Usando a variação acima, não conseguiriamos encontrá-la. \n",
    "\n",
    "Uma das formas de conseguir explorar melhor o espaço quando temos muitas dimensões é, ao invés de fazer um GridSearch, fazermos um RandomSearch. Nele, é sorteado aleatoriamente valores para cada um dos parametros. Por exemplo:"
   ]
  },
  {
   "cell_type": "code",
   "execution_count": 1,
   "metadata": {},
   "outputs": [
    {
     "name": "stdout",
     "output_type": "stream",
     "text": [
      "Possíveis soluções a serem testadas:\n",
      "(0.207491395289921,0.7779469895497861,783)\n",
      "(0.15048545751016748,0.19433496293684885,780)\n",
      "(0.4595928518309905,0.6212743781782104,808)\n",
      "(0.26796384509718174,0.4902853252193181,915)\n",
      "(0.7686120831358958,0.4462136543240427,781)\n",
      "(0.7137261033183696,0.6566662934147548,273)\n",
      "(0.6772320258726261,0.2830097770163621,968)\n",
      "(0.1817817264880386,0.35394370574110734,23)\n",
      "(0.12035668879476864,0.5331299782347972,962)\n",
      "(0.8049870871377244,0.6491870833432638,993)\n"
     ]
    }
   ],
   "source": [
    "import random\n",
    "n_combinacoes = 10\n",
    "random.seed(1)\n",
    "print(\"Possíveis soluções a serem testadas:\")\n",
    "for i in range(n_combinacoes):\n",
    "    min_samples_split = random.uniform(0.1,0.9)\n",
    "    max_features = random.uniform(0.1,0.9)\n",
    "    n_estimators = random.randint(1,1000)\n",
    "    print(f\"({min_samples_split},{max_features},{n_estimators})\")"
   ]
  },
  {
   "cell_type": "markdown",
   "metadata": {},
   "source": [
    "Podemos ainda melhorar essa busca ao usar o algoritmo Tree-Structured Parzen Estimator (TPE). De forma similar ao RandomSearch, esse algoritmo também sorteia aleoriamente valores. Porém, os valores não são totalmente aleatórios. Inicialmente, gera-se $c$ combinações totalmente aleatórias e, logo após, será gerado outras opções também aleatórias porém com uma probabilidade maior de ser sorteado soluções:\n",
    "\n",
    "- próxima a locais com bons resultados \n",
    "- próxima a regiões que ainda não foram exploradas\n",
    "\n",
    "[Veja um video explicativo aqui](https://www.youtube.com/watch?v=cWyuUpZfZl0&list=PLwIaU1DGYV6tUx10fCTw5aPnqypbbK_GJ&index=32) - ele demonstra o uso em parametros de redes neurais profundas, porém, a ideia é a mesma. Ao ver o video, é interessante notar que em redes neurais profundas, chamamos tais parametros de hiperparametros. [Veja também um texto sobre ajustes de parametros (em inglês)](https://medium.com/criteo-labs/hyper-parameter-optimization-algorithms-2fe447525903).\n",
    "\n",
    "Nem sempre o TPE é melhor que o Grid Search. Depende muito do problema, da quantidade e sensibilidade dos parametros e do método de aprendizado de máquina. A única forma de descobrir qual é o melhor é avaliando ambos também ;)."
   ]
  },
  {
   "cell_type": "markdown",
   "metadata": {},
   "source": [
    "### Optuna e otimização de parametros"
   ]
  },
  {
   "cell_type": "markdown",
   "metadata": {},
   "source": [
    "O Optuna é uma biblioteca que facilita a otimização de parametros. Para simplificar, considere a função $f(x) = -2x^2 + x + 4$ em que desejamos maximizar $f(x)$ e, neste caso, nosso parametro é o $x$. Assim, em outras palavras, temos que achar qual valor de $x$ obtém o maior resultado possível dessa função. Veja a representação grafica dessa função com a solução ótima encontrada:\n"
   ]
  },
  {
   "cell_type": "code",
   "execution_count": 2,
   "metadata": {},
   "outputs": [
    {
     "data": {
      "image/png": "[encoded data removed]",
      "text/plain": [
       "<Figure size 432x288 with 1 Axes>"
      ]
     },
     "metadata": {
      "needs_background": "light"
     },
     "output_type": "display_data"
    }
   ],
   "source": [
    "import matplotlib.pyplot as plt\n",
    "import numpy as np\n",
    "\n",
    "def desenha_funcao(limit_inf=-4,limit_sup=4):\n",
    "    # create 1000 equally spaced points between -10 and 10\n",
    "    x = np.linspace(limit_inf, limit_sup, 100)\n",
    "\n",
    "    # calculate the y value for each element of the x vector\n",
    "    y = -2* x**2 + x + 4\n",
    "\n",
    "    plt.plot(x, y)\n",
    "    plt.scatter(0.25,4.125,marker=\"o\")\n",
    "desenha_funcao()"
   ]
  },
  {
   "cell_type": "markdown",
   "metadata": {},
   "source": [
    "O optuna testará, com uma determinada estratégia, vários valores de $x$ com  o objetivo de encontrar esse ponto ótimo. \n",
    "\n",
    "Para isso, você deve criar uma **função objetivo** ou seja, uma função python que calcula o função $f(x)$ por meio de um $x$ escolhido com uma determinada estratégia (aleatório, por exemplo) para a tentativa especifica (definida pelo objeto [trial](https://optuna.readthedocs.io/en/latest/reference/trial.html))."
   ]
  },
  {
   "cell_type": "code",
   "execution_count": 3,
   "metadata": {},
   "outputs": [],
   "source": [
    "import optuna\n",
    "def funcao_objetivo(trial: optuna.Trial):\n",
    "    #trial: é a tentativa atual\n",
    "    #sugggest uniform: função que sugere-se uma escolha de x aleatorio \n",
    "    #de forma uniforme (ou seja, todos os valores tem a mesma chance de ser escolhidos)\n",
    "    #pq é uma sugestão: Dependendo da estrategia de busca, esse parametro pode nao ser uniformemente escolhido\n",
    "    x = trial.suggest_uniform('x', -10, 10)\n",
    "    return -2* x**2 + x + 4"
   ]
  },
  {
   "cell_type": "markdown",
   "metadata": {},
   "source": [
    "Assim, pode-se instanciar um estudo  de parametros (objeto da classe [Study](https://optuna.readthedocs.io/en/latest/reference/study.html)) que efetua uma busca aleatória do parametro $x$, passando a função objetivo como parametro: "
   ]
  },
  {
   "cell_type": "code",
   "execution_count": 4,
   "metadata": {},
   "outputs": [
    {
     "name": "stderr",
     "output_type": "stream",
     "text": [
      "\u001b[32m[I 2021-11-29 15:15:25,688]\u001b[0m A new study created in memory with name: no-name-7946690f-ed85-4122-9708-aefc1e3a6005\u001b[0m\n",
      "\u001b[32m[I 2021-11-29 15:15:25,695]\u001b[0m Trial 0 finished with value: -3.1678380688122374 and parameters: {'x': -1.6595599059485195}. Best is trial 0 with value: -3.1678380688122374.\u001b[0m\n",
      "\u001b[32m[I 2021-11-29 15:15:25,698]\u001b[0m Trial 1 finished with value: -30.427816059591684 and parameters: {'x': 4.4064898688431615}. Best is trial 0 with value: -3.1678380688122374.\u001b[0m\n",
      "\u001b[32m[I 2021-11-29 15:15:25,700]\u001b[0m Trial 2 finished with value: -205.90622311505624 and parameters: {'x': -9.997712503653101}. Best is trial 0 with value: -3.1678380688122374.\u001b[0m\n",
      "\u001b[32m[I 2021-11-29 15:15:25,703]\u001b[0m Trial 3 finished with value: -31.211278021240723 and parameters: {'x': -3.9533485473632046}. Best is trial 0 with value: -3.1678380688122374.\u001b[0m\n",
      "\u001b[32m[I 2021-11-29 15:15:25,706]\u001b[0m Trial 4 finished with value: -102.89000272158682 and parameters: {'x': -7.064882183657739}. Best is trial 0 with value: -3.1678380688122374.\u001b[0m\n",
      "\u001b[32m[I 2021-11-29 15:15:25,709]\u001b[0m Trial 5 finished with value: -137.10348515668684 and parameters: {'x': -8.153228104624045}. Best is trial 0 with value: -3.1678380688122374.\u001b[0m\n",
      "\u001b[32m[I 2021-11-29 15:15:25,712]\u001b[0m Trial 6 finished with value: -81.02091974427358 and parameters: {'x': -6.274795772446582}. Best is trial 0 with value: -3.1678380688122374.\u001b[0m\n",
      "\u001b[32m[I 2021-11-29 15:15:25,717]\u001b[0m Trial 7 finished with value: -18.169976684316644 and parameters: {'x': -3.0887854591390447}. Best is trial 0 with value: -3.1678380688122374.\u001b[0m\n",
      "\u001b[32m[I 2021-11-29 15:15:25,720]\u001b[0m Trial 8 finished with value: -6.590214016758917 and parameters: {'x': -2.0646505153866013}. Best is trial 0 with value: -3.1678380688122374.\u001b[0m\n",
      "\u001b[32m[I 2021-11-29 15:15:25,723]\u001b[0m Trial 9 finished with value: 3.5709436091172453 and parameters: {'x': 0.7763346800671389}. Best is trial 9 with value: 3.5709436091172453.\u001b[0m\n",
      "\u001b[32m[I 2021-11-29 15:15:25,726]\u001b[0m Trial 10 finished with value: -2.8397309139495714 and parameters: {'x': -1.6161097119341044}. Best is trial 9 with value: 3.5709436091172453.\u001b[0m\n",
      "\u001b[32m[I 2021-11-29 15:15:25,729]\u001b[0m Trial 11 finished with value: -19.74062065384497 and parameters: {'x': 3.7043900079351904}. Best is trial 9 with value: 3.5709436091172453.\u001b[0m\n",
      "\u001b[32m[I 2021-11-29 15:15:25,732]\u001b[0m Trial 12 finished with value: -71.7897331563787 and parameters: {'x': -5.910955005369651}. Best is trial 9 with value: 3.5709436091172453.\u001b[0m\n",
      "\u001b[32m[I 2021-11-29 15:15:25,737]\u001b[0m Trial 13 finished with value: -102.81588783446958 and parameters: {'x': 7.562348727818907}. Best is trial 9 with value: 3.5709436091172453.\u001b[0m\n",
      "\u001b[32m[I 2021-11-29 15:15:25,739]\u001b[0m Trial 14 finished with value: -184.14223778664058 and parameters: {'x': -9.452248136041476}. Best is trial 9 with value: 3.5709436091172453.\u001b[0m\n",
      "\u001b[32m[I 2021-11-29 15:15:25,742]\u001b[0m Trial 15 finished with value: -15.837987417570886 and parameters: {'x': 3.409350203568044}. Best is trial 9 with value: 3.5709436091172453.\u001b[0m\n",
      "\u001b[32m[I 2021-11-29 15:15:25,746]\u001b[0m Trial 16 finished with value: -3.124700521889401 and parameters: {'x': -1.6539039526574602}. Best is trial 9 with value: 3.5709436091172453.\u001b[0m\n",
      "\u001b[32m[I 2021-11-29 15:15:25,748]\u001b[0m Trial 17 finished with value: 2.418199798521623 and parameters: {'x': 1.1737965689150336}. Best is trial 9 with value: 3.5709436091172453.\u001b[0m\n",
      "\u001b[32m[I 2021-11-29 15:15:25,752]\u001b[0m Trial 18 finished with value: -106.64950437442184 and parameters: {'x': -7.192261228095324}. Best is trial 9 with value: 3.5709436091172453.\u001b[0m\n",
      "\u001b[32m[I 2021-11-29 15:15:25,754]\u001b[0m Trial 19 finished with value: -74.95213893251648 and parameters: {'x': -6.037970218302425}. Best is trial 9 with value: 3.5709436091172453.\u001b[0m\n",
      "\u001b[32m[I 2021-11-29 15:15:25,756]\u001b[0m Trial 20 finished with value: -62.34294509675691 and parameters: {'x': 6.014891373510732}. Best is trial 9 with value: 3.5709436091172453.\u001b[0m\n",
      "\u001b[32m[I 2021-11-29 15:15:25,759]\u001b[0m Trial 21 finished with value: -162.0498911217825 and parameters: {'x': 9.36523151438795}. Best is trial 9 with value: 3.5709436091172453.\u001b[0m\n",
      "\u001b[32m[I 2021-11-29 15:15:25,762]\u001b[0m Trial 22 finished with value: -27.579946273258308 and parameters: {'x': -3.7315164368151432}. Best is trial 9 with value: 3.5709436091172453.\u001b[0m\n",
      "\u001b[32m[I 2021-11-29 15:15:25,764]\u001b[0m Trial 23 finished with value: -21.74393848492307 and parameters: {'x': 3.8464523133862816}. Best is trial 9 with value: 3.5709436091172453.\u001b[0m\n",
      "\u001b[32m[I 2021-11-29 15:15:25,772]\u001b[0m Trial 24 finished with value: -101.80725212698351 and parameters: {'x': 7.527783045920767}. Best is trial 9 with value: 3.5709436091172453.\u001b[0m\n",
      "\u001b[32m[I 2021-11-29 15:15:25,776]\u001b[0m Trial 25 finished with value: -112.67940183523393 and parameters: {'x': 7.892133270076947}. Best is trial 9 with value: 3.5709436091172453.\u001b[0m\n",
      "\u001b[32m[I 2021-11-29 15:15:25,779]\u001b[0m Trial 26 finished with value: -142.04976098678807 and parameters: {'x': -8.299115772604441}. Best is trial 9 with value: 3.5709436091172453.\u001b[0m\n",
      "\u001b[32m[I 2021-11-29 15:15:25,782]\u001b[0m Trial 27 finished with value: -175.19529862373042 and parameters: {'x': -9.218904335342353}. Best is trial 9 with value: 3.5709436091172453.\u001b[0m\n",
      "\u001b[32m[I 2021-11-29 15:15:25,784]\u001b[0m Trial 28 finished with value: -89.8129530846355 and parameters: {'x': -6.6033916087086215}. Best is trial 9 with value: 3.5709436091172453.\u001b[0m\n",
      "\u001b[32m[I 2021-11-29 15:15:25,788]\u001b[0m Trial 29 finished with value: -102.83055225130268 and parameters: {'x': 7.562850068588261}. Best is trial 9 with value: 3.5709436091172453.\u001b[0m\n"
     ]
    }
   ],
   "source": [
    "from optuna.samplers import RandomSampler\n",
    "#nossa funcao sera de maximizacao (por isso direction=maximize)\n",
    "#o sampler que define a estratégia de busca. \n",
    "#Neste caso, será feita uma busca totalmente aleatória\n",
    "study_random = optuna.create_study(sampler=RandomSampler(seed=1), direction=\"maximize\")\n",
    "#colocamos 30 tentativas\n",
    "study_random.optimize(funcao_objetivo, n_trials=30)"
   ]
  },
  {
   "cell_type": "markdown",
   "metadata": {},
   "source": [
    "Veja os pontos analisados e a melhor solução encontrada usando esse método além da comparação com o valor ótimo (que seria 0.25): "
   ]
  },
  {
   "cell_type": "code",
   "execution_count": 5,
   "metadata": {},
   "outputs": [
    {
     "name": "stdout",
     "output_type": "stream",
     "text": [
      "Melhor ponto: 0.7763346800671389 ponto ótimo: 0.25 diferença: 0.5263346800671389\n"
     ]
    },
    {
     "data": {
      "image/png": "[encoded data removed]",
      "text/plain": [
       "<Figure size 432x288 with 1 Axes>"
      ]
     },
     "metadata": {
      "needs_background": "light"
     },
     "output_type": "display_data"
    }
   ],
   "source": [
    "def plot_best_trials(study,x_otimo):\n",
    "    desenha_funcao()\n",
    "\n",
    "    #obtem o valor de paramtro x e o resultado para cada tentativa testada e armazena no vetor\n",
    "    #para cada um desses valores, plota no grafico \n",
    "    for trial in study.get_trials():\n",
    "        x = trial.params[\"x\"]\n",
    "        y = trial.value\n",
    "        #apresenta apenas pontos com diferença < 20 do ponto otimo\n",
    "        diff_otimo = abs(x_otimo-x)\n",
    "        plt.scatter(x, y,marker=\"o\")\n",
    "    best_x = study.best_trial.params['x']\n",
    "    print(f\"Melhor ponto: {best_x} ponto ótimo: {x_otimo} diferença: {abs(best_x-x_otimo)}\")\n",
    "plot_best_trials(study_random,0.25)"
   ]
  },
  {
   "cell_type": "markdown",
   "metadata": {},
   "source": [
    "Veja que, com a busca aleatória, encontramos um valor muito diferente do ideal. Agora, se fizermos uma busca usando o método Tree Partzen Estimator:"
   ]
  },
  {
   "cell_type": "code",
   "execution_count": 6,
   "metadata": {},
   "outputs": [
    {
     "name": "stderr",
     "output_type": "stream",
     "text": [
      "\u001b[32m[I 2021-11-29 15:15:26,879]\u001b[0m A new study created in memory with name: no-name-0b3ea473-6d76-452b-9c55-2f45c7532bf2\u001b[0m\n",
      "\u001b[32m[I 2021-11-29 15:15:26,884]\u001b[0m Trial 0 finished with value: -3.1678380688122374 and parameters: {'x': -1.6595599059485195}. Best is trial 0 with value: -3.1678380688122374.\u001b[0m\n",
      "\u001b[32m[I 2021-11-29 15:15:26,887]\u001b[0m Trial 1 finished with value: -30.427816059591684 and parameters: {'x': 4.4064898688431615}. Best is trial 0 with value: -3.1678380688122374.\u001b[0m\n",
      "\u001b[32m[I 2021-11-29 15:15:26,889]\u001b[0m Trial 2 finished with value: -205.90622311505624 and parameters: {'x': -9.997712503653101}. Best is trial 0 with value: -3.1678380688122374.\u001b[0m\n",
      "\u001b[32m[I 2021-11-29 15:15:26,892]\u001b[0m Trial 3 finished with value: -31.211278021240723 and parameters: {'x': -3.9533485473632046}. Best is trial 0 with value: -3.1678380688122374.\u001b[0m\n",
      "\u001b[32m[I 2021-11-29 15:15:26,895]\u001b[0m Trial 4 finished with value: -102.89000272158682 and parameters: {'x': -7.064882183657739}. Best is trial 0 with value: -3.1678380688122374.\u001b[0m\n",
      "\u001b[32m[I 2021-11-29 15:15:26,898]\u001b[0m Trial 5 finished with value: -137.10348515668684 and parameters: {'x': -8.153228104624045}. Best is trial 0 with value: -3.1678380688122374.\u001b[0m\n",
      "\u001b[32m[I 2021-11-29 15:15:26,901]\u001b[0m Trial 6 finished with value: -81.02091974427358 and parameters: {'x': -6.274795772446582}. Best is trial 0 with value: -3.1678380688122374.\u001b[0m\n",
      "\u001b[32m[I 2021-11-29 15:15:26,904]\u001b[0m Trial 7 finished with value: -18.169976684316644 and parameters: {'x': -3.0887854591390447}. Best is trial 0 with value: -3.1678380688122374.\u001b[0m\n",
      "\u001b[32m[I 2021-11-29 15:15:26,906]\u001b[0m Trial 8 finished with value: -6.590214016758917 and parameters: {'x': -2.0646505153866013}. Best is trial 0 with value: -3.1678380688122374.\u001b[0m\n",
      "\u001b[32m[I 2021-11-29 15:15:26,908]\u001b[0m Trial 9 finished with value: 3.5709436091172453 and parameters: {'x': 0.7763346800671389}. Best is trial 9 with value: 3.5709436091172453.\u001b[0m\n",
      "\u001b[32m[I 2021-11-29 15:15:27,004]\u001b[0m Trial 10 finished with value: -170.65527760897447 and parameters: {'x': 9.598269294606743}. Best is trial 9 with value: 3.5709436091172453.\u001b[0m\n",
      "\u001b[32m[I 2021-11-29 15:15:27,018]\u001b[0m Trial 11 finished with value: -3.008038510232727 and parameters: {'x': 2.1385230353682116}. Best is trial 9 with value: 3.5709436091172453.\u001b[0m\n",
      "\u001b[32m[I 2021-11-29 15:15:27,031]\u001b[0m Trial 12 finished with value: -4.099255360247868 and parameters: {'x': 2.27783817897877}. Best is trial 9 with value: 3.5709436091172453.\u001b[0m\n",
      "\u001b[32m[I 2021-11-29 15:15:27,043]\u001b[0m Trial 13 finished with value: -36.44848116259418 and parameters: {'x': 4.754080436814721}. Best is trial 9 with value: 3.5709436091172453.\u001b[0m\n",
      "\u001b[32m[I 2021-11-29 15:15:27,053]\u001b[0m Trial 14 finished with value: 1.7053893519553172 and parameters: {'x': 1.3499115073597245}. Best is trial 9 with value: 3.5709436091172453.\u001b[0m\n",
      "\u001b[32m[I 2021-11-29 15:15:27,068]\u001b[0m Trial 15 finished with value: 3.9658379680825875 and parameters: {'x': 0.5321010740119686}. Best is trial 15 with value: 3.9658379680825875.\u001b[0m\n",
      "\u001b[32m[I 2021-11-29 15:15:27,082]\u001b[0m Trial 16 finished with value: -51.99433738715079 and parameters: {'x': 5.54713778314057}. Best is trial 15 with value: 3.9658379680825875.\u001b[0m\n",
      "\u001b[32m[I 2021-11-29 15:15:27,092]\u001b[0m Trial 17 finished with value: -113.07338153578428 and parameters: {'x': 7.905010827418348}. Best is trial 15 with value: 3.9658379680825875.\u001b[0m\n",
      "\u001b[32m[I 2021-11-29 15:15:27,104]\u001b[0m Trial 18 finished with value: 3.7453316321089045 and parameters: {'x': -0.1856996487783158}. Best is trial 15 with value: 3.9658379680825875.\u001b[0m\n",
      "\u001b[32m[I 2021-11-29 15:15:27,115]\u001b[0m Trial 19 finished with value: 3.433277304049563 and parameters: {'x': -0.33809977722765583}. Best is trial 15 with value: 3.9658379680825875.\u001b[0m\n",
      "\u001b[32m[I 2021-11-29 15:15:27,130]\u001b[0m Trial 20 finished with value: -31.43090086499823 and parameters: {'x': -3.966390687839436}. Best is trial 15 with value: 3.9658379680825875.\u001b[0m\n",
      "\u001b[32m[I 2021-11-29 15:15:27,141]\u001b[0m Trial 21 finished with value: 4.105073090116697 and parameters: {'x': 0.1501828925401486}. Best is trial 21 with value: 4.105073090116697.\u001b[0m\n",
      "\u001b[32m[I 2021-11-29 15:15:27,153]\u001b[0m Trial 22 finished with value: 3.1471278343915348 and parameters: {'x': -0.44923964619022605}. Best is trial 21 with value: 4.105073090116697.\u001b[0m\n",
      "\u001b[32m[I 2021-11-29 15:15:27,165]\u001b[0m Trial 23 finished with value: -14.282689188541617 and parameters: {'x': 3.283783874021155}. Best is trial 21 with value: 4.105073090116697.\u001b[0m\n",
      "\u001b[32m[I 2021-11-29 15:15:27,178]\u001b[0m Trial 24 finished with value: 0.976771733450426 and parameters: {'x': -1.0046370524079014}. Best is trial 21 with value: 4.105073090116697.\u001b[0m\n",
      "\u001b[32m[I 2021-11-29 15:15:27,190]\u001b[0m Trial 25 finished with value: -69.03180316000288 and parameters: {'x': 6.298008067124369}. Best is trial 21 with value: 4.105073090116697.\u001b[0m\n",
      "\u001b[32m[I 2021-11-29 15:15:27,202]\u001b[0m Trial 26 finished with value: -9.535683243911606 and parameters: {'x': 2.8634922272614096}. Best is trial 21 with value: 4.105073090116697.\u001b[0m\n",
      "\u001b[32m[I 2021-11-29 15:15:27,214]\u001b[0m Trial 27 finished with value: 3.4849394987640414 and parameters: {'x': 0.8157121623387458}. Best is trial 21 with value: 4.105073090116697.\u001b[0m\n",
      "\u001b[32m[I 2021-11-29 15:15:27,223]\u001b[0m Trial 28 finished with value: -14.235503807454624 and parameters: {'x': -2.779893051532894}. Best is trial 21 with value: 4.105073090116697.\u001b[0m\n",
      "\u001b[32m[I 2021-11-29 15:15:27,233]\u001b[0m Trial 29 finished with value: -48.85352766282579 and parameters: {'x': -4.896772175977182}. Best is trial 21 with value: 4.105073090116697.\u001b[0m\n"
     ]
    }
   ],
   "source": [
    "from optuna.samplers import TPESampler\n",
    "#Para o TPE, é importante passar o numero de tentativas iniciais\n",
    "#essas serão as unicas que serão totalmente aleatorias para explorar o espaço\n",
    "tpe_sampler = TPESampler(n_startup_trials = 10,seed=1)\n",
    "study_TP = optuna.create_study(sampler=tpe_sampler, direction=\"maximize\")\n",
    "#colocamos 30 tentativas (destas, 10 serão aleatorias e, o restante, considerando o algoritmo)\n",
    "study_TP.optimize(funcao_objetivo, n_trials=30)"
   ]
  },
  {
   "cell_type": "code",
   "execution_count": 7,
   "metadata": {},
   "outputs": [
    {
     "name": "stdout",
     "output_type": "stream",
     "text": [
      "Melhor ponto: 0.1501828925401486 ponto ótimo: 0.25 diferença: 0.0998171074598514\n"
     ]
    },
    {
     "data": {
      "image/png": "[encoded data removed]",
      "text/plain": [
       "<Figure size 432x288 with 1 Axes>"
      ]
     },
     "metadata": {
      "needs_background": "light"
     },
     "output_type": "display_data"
    }
   ],
   "source": [
    "plot_best_trials(study_TP,0.25)"
   ]
  },
  {
   "cell_type": "markdown",
   "metadata": {},
   "source": [
    "Veja que na busca usando o TPE houveram mais tentativas próximas ao ponto ótimo e a melhor solução ficou muito mais próxima ao ponto ótimo."
   ]
  },
  {
   "cell_type": "markdown",
   "metadata": {},
   "source": [
    "## Optuna em um método de aprendizado de máquina"
   ]
  },
  {
   "cell_type": "markdown",
   "metadata": {},
   "source": [
    "Fizemos um exemplo ilustrativo e agora iremos mostrar como aplicar Optuna para avaliar parametros de um método de aprendizado de Máquina. O Optuna será aplicado em um fold. Ou seja, para um determinado fold, deverá ser avaliado qual é o melhor parametro, sempre usando os folds de validação desse fold. \n",
    "\n",
    "Veja um esqueleto do código que poderia ser feito, usando uma função dentro da outra:"
   ]
  },
  {
   "cell_type": "code",
   "execution_count": 8,
   "metadata": {},
   "outputs": [
    {
     "name": "stderr",
     "output_type": "stream",
     "text": [
      "\u001b[32m[I 2021-11-29 15:15:28,077]\u001b[0m A new study created in memory with name: no-name-4dbdb920-3fbf-43a2-b3d4-426d85b37569\u001b[0m\n",
      "\u001b[32m[I 2021-11-29 15:15:28,080]\u001b[0m Trial 0 finished with value: 0.5 and parameters: {'x': -1.6595599059485195}. Best is trial 0 with value: 0.5.\u001b[0m\n",
      "\u001b[32m[I 2021-11-29 15:15:28,083]\u001b[0m Trial 1 finished with value: 0.5 and parameters: {'x': 4.4064898688431615}. Best is trial 0 with value: 0.5.\u001b[0m\n",
      "\u001b[32m[I 2021-11-29 15:15:28,086]\u001b[0m Trial 2 finished with value: 0.5 and parameters: {'x': -9.997712503653101}. Best is trial 0 with value: 0.5.\u001b[0m\n",
      "\u001b[32m[I 2021-11-29 15:15:28,089]\u001b[0m Trial 3 finished with value: 0.5 and parameters: {'x': -3.9533485473632046}. Best is trial 0 with value: 0.5.\u001b[0m\n",
      "\u001b[32m[I 2021-11-29 15:15:28,097]\u001b[0m Trial 4 finished with value: 0.5 and parameters: {'x': -7.064882183657739}. Best is trial 0 with value: 0.5.\u001b[0m\n",
      "\u001b[32m[I 2021-11-29 15:15:28,100]\u001b[0m Trial 5 finished with value: 0.5 and parameters: {'x': -8.153228104624045}. Best is trial 0 with value: 0.5.\u001b[0m\n",
      "\u001b[32m[I 2021-11-29 15:15:28,102]\u001b[0m Trial 6 finished with value: 0.5 and parameters: {'x': -6.274795772446582}. Best is trial 0 with value: 0.5.\u001b[0m\n",
      "\u001b[32m[I 2021-11-29 15:15:28,106]\u001b[0m Trial 7 finished with value: 0.5 and parameters: {'x': -3.0887854591390447}. Best is trial 0 with value: 0.5.\u001b[0m\n",
      "\u001b[32m[I 2021-11-29 15:15:28,108]\u001b[0m Trial 8 finished with value: 0.5 and parameters: {'x': -2.0646505153866013}. Best is trial 0 with value: 0.5.\u001b[0m\n",
      "\u001b[32m[I 2021-11-29 15:15:28,110]\u001b[0m Trial 9 finished with value: 0.5 and parameters: {'x': 0.7763346800671389}. Best is trial 0 with value: 0.5.\u001b[0m\n",
      "\u001b[32m[I 2021-11-29 15:15:28,118]\u001b[0m Trial 10 finished with value: 0.5 and parameters: {'x': 9.327633476993267}. Best is trial 0 with value: 0.5.\u001b[0m\n",
      "\u001b[32m[I 2021-11-29 15:15:28,130]\u001b[0m Trial 11 finished with value: 0.5 and parameters: {'x': 2.7044405141572696}. Best is trial 0 with value: 0.5.\u001b[0m\n",
      "\u001b[32m[I 2021-11-29 15:15:28,138]\u001b[0m Trial 12 finished with value: 0.5 and parameters: {'x': 4.789380089557979}. Best is trial 0 with value: 0.5.\u001b[0m\n",
      "\u001b[32m[I 2021-11-29 15:15:28,146]\u001b[0m Trial 13 finished with value: 0.5 and parameters: {'x': 7.017115839110525}. Best is trial 0 with value: 0.5.\u001b[0m\n",
      "\u001b[32m[I 2021-11-29 15:15:28,159]\u001b[0m Trial 14 finished with value: 0.5 and parameters: {'x': 1.5760566010985066}. Best is trial 0 with value: 0.5.\u001b[0m\n",
      "\u001b[32m[I 2021-11-29 15:15:28,169]\u001b[0m Trial 15 finished with value: 0.5 and parameters: {'x': 3.7967103330739453}. Best is trial 0 with value: 0.5.\u001b[0m\n",
      "\u001b[32m[I 2021-11-29 15:15:28,179]\u001b[0m Trial 16 finished with value: 0.5 and parameters: {'x': -0.8999255672623159}. Best is trial 0 with value: 0.5.\u001b[0m\n",
      "\u001b[32m[I 2021-11-29 15:15:28,189]\u001b[0m Trial 17 finished with value: 0.5 and parameters: {'x': 0.9695872395806382}. Best is trial 0 with value: 0.5.\u001b[0m\n",
      "\u001b[32m[I 2021-11-29 15:15:28,203]\u001b[0m Trial 18 finished with value: 0.5 and parameters: {'x': 4.637876244256079}. Best is trial 0 with value: 0.5.\u001b[0m\n",
      "\u001b[32m[I 2021-11-29 15:15:28,213]\u001b[0m Trial 19 finished with value: 0.5 and parameters: {'x': -1.2771261394587596}. Best is trial 0 with value: 0.5.\u001b[0m\n",
      "\u001b[32m[I 2021-11-29 15:15:28,222]\u001b[0m Trial 20 finished with value: 0.5 and parameters: {'x': -4.825497414455507}. Best is trial 0 with value: 0.5.\u001b[0m\n",
      "\u001b[32m[I 2021-11-29 15:15:28,230]\u001b[0m Trial 21 finished with value: 0.5 and parameters: {'x': 6.452915031251644}. Best is trial 0 with value: 0.5.\u001b[0m\n",
      "\u001b[32m[I 2021-11-29 15:15:28,243]\u001b[0m Trial 22 finished with value: 0.5 and parameters: {'x': -1.0191028702636054}. Best is trial 0 with value: 0.5.\u001b[0m\n",
      "\u001b[32m[I 2021-11-29 15:15:28,257]\u001b[0m Trial 23 finished with value: 0.5 and parameters: {'x': -4.6051073935447775}. Best is trial 0 with value: 0.5.\u001b[0m\n",
      "\u001b[32m[I 2021-11-29 15:15:28,265]\u001b[0m Trial 24 finished with value: 0.5 and parameters: {'x': -5.412042129419378}. Best is trial 0 with value: 0.5.\u001b[0m\n",
      "\u001b[32m[I 2021-11-29 15:15:28,279]\u001b[0m Trial 25 finished with value: 0.5 and parameters: {'x': 6.597624441702867}. Best is trial 0 with value: 0.5.\u001b[0m\n",
      "\u001b[32m[I 2021-11-29 15:15:28,290]\u001b[0m Trial 26 finished with value: 0.5 and parameters: {'x': -3.0248835565710697}. Best is trial 0 with value: 0.5.\u001b[0m\n",
      "\u001b[32m[I 2021-11-29 15:15:28,304]\u001b[0m Trial 27 finished with value: 0.5 and parameters: {'x': -5.620313087968826}. Best is trial 0 with value: 0.5.\u001b[0m\n",
      "\u001b[32m[I 2021-11-29 15:15:28,315]\u001b[0m Trial 28 finished with value: 0.5 and parameters: {'x': 9.935577745625631}. Best is trial 0 with value: 0.5.\u001b[0m\n",
      "\u001b[32m[I 2021-11-29 15:15:28,329]\u001b[0m Trial 29 finished with value: 0.5 and parameters: {'x': -2.4736618595840794}. Best is trial 0 with value: 0.5.\u001b[0m\n"
     ]
    },
    {
     "name": "stdout",
     "output_type": "stream",
     "text": [
      "Melhor execução: {'x': -1.6595599059485195}\n"
     ]
    }
   ],
   "source": [
    "from optuna.samplers import TPESampler\n",
    "import optuna \n",
    "from tests import Dados\n",
    "from resultado import Fold\n",
    "\n",
    "def executa_fold(fold):\n",
    "    \n",
    "    def objetivo_ap_de_maquina(trial: optuna.Trial):\n",
    "        #suponha que temos o parametro x para ajustar\n",
    "        x = trial.suggest_uniform('x', -10, 10)\n",
    "        \n",
    "        #navega em cada um dos folds de validação \n",
    "        soma = 0\n",
    "        for fold_validacao in fold.arr_folds_validacao:\n",
    "            #1. roda um metodo de aprendizado de maquina para o fold_validacao \n",
    "            #usando o parametro x\n",
    "            \n",
    "            #2. armazena resultado em resultado fold\n",
    "            resultado_fold = 0.5#colcoamos um resultado fixo para funcionar\n",
    "            \n",
    "            #3. faz o somatorio para a media\n",
    "            soma += resultado_fold\n",
    "        #4. a funcao objetivo é retornada como a media dos folds de validação\n",
    "        return soma/len(fold.arr_folds_validacao)\n",
    "    \n",
    "    tpe_sampler = TPESampler(n_startup_trials = 10,seed=1)\n",
    "    study_TP = optuna.create_study(sampler=tpe_sampler, direction=\"maximize\")\n",
    "    #colocamos 30 tentativas (destas, 10 serão aleatorias e, o restante, considerando o algoritmo)\n",
    "    study_TP.optimize(objetivo_ap_de_maquina, n_trials=30)\n",
    "    \n",
    "    print(f\"Melhor execução: {study_TP.best_trial.params}\")\n",
    "    #aplica o melhor parametro no teste\n",
    "    #...\n",
    "fold = Fold(Dados.df_treino,Dados.df_teste,\"realClass\",num_folds_validacao=5,num_repeticoes_validacao=2)\n",
    "executa_fold(fold)"
   ]
  },
  {
   "cell_type": "markdown",
   "metadata": {},
   "source": [
    "Não se preocupe que o resultado que ésempre o mesmo, pois implementamos apenas o esqueleto do codigo e deixamos o resultado fixo como \"0.5\". No lugar disso, deveriamos colocar o resultado do método de aprendizado de máquina (como acurária ou macro f1, por exemplo)."
   ]
  },
  {
   "cell_type": "markdown",
   "metadata": {},
   "source": [
    "O código não ficou tão bom pois, como não podemos criar parametros novos na função objetivo e temos que passar o fold na função objetivo, ela tem que ser uma \"variavel global\" a função. Então, se quisermos fazer dessa forma, a função objetivo sempre será sub-função da função/método que calcula todos os resultados. Isso não fica muito legivel e é pouco flexível. Pois, cada método de aprendizado de máquina possui sua própria variação de parametros. Criar várias funções objetivos dentro de uma função de calculo de resultado não ficaria tão legivel e você não poderia usar essas funções externamente. \n",
    "\n",
    "Para melhorarmos isso, podemos criar uma classe que é \"invocável\" ou seja, um classe em que os objetos podem ser chamados (veja [slides](https://daniel-hasan.github.io/cefet-web-grad/classes/python2/#27) e [video-aula](https://www.youtube.com/watch?v=EXmr7zttGWE&list=PLwIaU1DGYV6skjkahOKtpgs9bPXlrVrIp&index=10)). Assim, o fold seria um atributo dessa classe e o código ficaria mais limpo, da seguinte forma: "
   ]
  },
  {
   "cell_type": "code",
   "execution_count": 9,
   "metadata": {},
   "outputs": [
    {
     "name": "stderr",
     "output_type": "stream",
     "text": [
      "\u001b[32m[I 2021-11-29 15:15:28,375]\u001b[0m A new study created in memory with name: no-name-97e537ce-584a-4721-b403-52f81bbd3958\u001b[0m\n",
      "\u001b[32m[I 2021-11-29 15:15:28,377]\u001b[0m Trial 0 finished with value: 0.5 and parameters: {'x': -1.6595599059485195}. Best is trial 0 with value: 0.5.\u001b[0m\n",
      "\u001b[32m[I 2021-11-29 15:15:28,380]\u001b[0m Trial 1 finished with value: 0.5 and parameters: {'x': 4.4064898688431615}. Best is trial 0 with value: 0.5.\u001b[0m\n",
      "\u001b[32m[I 2021-11-29 15:15:28,383]\u001b[0m Trial 2 finished with value: 0.5 and parameters: {'x': -9.997712503653101}. Best is trial 0 with value: 0.5.\u001b[0m\n",
      "\u001b[32m[I 2021-11-29 15:15:28,386]\u001b[0m Trial 3 finished with value: 0.5 and parameters: {'x': -3.9533485473632046}. Best is trial 0 with value: 0.5.\u001b[0m\n",
      "\u001b[32m[I 2021-11-29 15:15:28,388]\u001b[0m Trial 4 finished with value: 0.5 and parameters: {'x': -7.064882183657739}. Best is trial 0 with value: 0.5.\u001b[0m\n",
      "\u001b[32m[I 2021-11-29 15:15:28,392]\u001b[0m Trial 5 finished with value: 0.5 and parameters: {'x': -8.153228104624045}. Best is trial 0 with value: 0.5.\u001b[0m\n",
      "\u001b[32m[I 2021-11-29 15:15:28,394]\u001b[0m Trial 6 finished with value: 0.5 and parameters: {'x': -6.274795772446582}. Best is trial 0 with value: 0.5.\u001b[0m\n",
      "\u001b[32m[I 2021-11-29 15:15:28,397]\u001b[0m Trial 7 finished with value: 0.5 and parameters: {'x': -3.0887854591390447}. Best is trial 0 with value: 0.5.\u001b[0m\n",
      "\u001b[32m[I 2021-11-29 15:15:28,399]\u001b[0m Trial 8 finished with value: 0.5 and parameters: {'x': -2.0646505153866013}. Best is trial 0 with value: 0.5.\u001b[0m\n",
      "\u001b[32m[I 2021-11-29 15:15:28,401]\u001b[0m Trial 9 finished with value: 0.5 and parameters: {'x': 0.7763346800671389}. Best is trial 0 with value: 0.5.\u001b[0m\n",
      "\u001b[32m[I 2021-11-29 15:15:28,417]\u001b[0m Trial 10 finished with value: 0.5 and parameters: {'x': 9.327633476993267}. Best is trial 0 with value: 0.5.\u001b[0m\n",
      "\u001b[32m[I 2021-11-29 15:15:28,426]\u001b[0m Trial 11 finished with value: 0.5 and parameters: {'x': 2.7044405141572696}. Best is trial 0 with value: 0.5.\u001b[0m\n",
      "\u001b[32m[I 2021-11-29 15:15:28,436]\u001b[0m Trial 12 finished with value: 0.5 and parameters: {'x': 4.789380089557979}. Best is trial 0 with value: 0.5.\u001b[0m\n",
      "\u001b[32m[I 2021-11-29 15:15:28,445]\u001b[0m Trial 13 finished with value: 0.5 and parameters: {'x': 7.017115839110525}. Best is trial 0 with value: 0.5.\u001b[0m\n",
      "\u001b[32m[I 2021-11-29 15:15:28,457]\u001b[0m Trial 14 finished with value: 0.5 and parameters: {'x': 1.5760566010985066}. Best is trial 0 with value: 0.5.\u001b[0m\n",
      "\u001b[32m[I 2021-11-29 15:15:28,470]\u001b[0m Trial 15 finished with value: 0.5 and parameters: {'x': 3.7967103330739453}. Best is trial 0 with value: 0.5.\u001b[0m\n",
      "\u001b[32m[I 2021-11-29 15:15:28,483]\u001b[0m Trial 16 finished with value: 0.5 and parameters: {'x': -0.8999255672623159}. Best is trial 0 with value: 0.5.\u001b[0m\n",
      "\u001b[32m[I 2021-11-29 15:15:28,492]\u001b[0m Trial 17 finished with value: 0.5 and parameters: {'x': 0.9695872395806382}. Best is trial 0 with value: 0.5.\u001b[0m\n",
      "\u001b[32m[I 2021-11-29 15:15:28,502]\u001b[0m Trial 18 finished with value: 0.5 and parameters: {'x': 4.637876244256079}. Best is trial 0 with value: 0.5.\u001b[0m\n",
      "\u001b[32m[I 2021-11-29 15:15:28,511]\u001b[0m Trial 19 finished with value: 0.5 and parameters: {'x': -1.2771261394587596}. Best is trial 0 with value: 0.5.\u001b[0m\n",
      "\u001b[32m[I 2021-11-29 15:15:28,520]\u001b[0m Trial 20 finished with value: 0.5 and parameters: {'x': -4.825497414455507}. Best is trial 0 with value: 0.5.\u001b[0m\n",
      "\u001b[32m[I 2021-11-29 15:15:28,528]\u001b[0m Trial 21 finished with value: 0.5 and parameters: {'x': 6.452915031251644}. Best is trial 0 with value: 0.5.\u001b[0m\n",
      "\u001b[32m[I 2021-11-29 15:15:28,540]\u001b[0m Trial 22 finished with value: 0.5 and parameters: {'x': -1.0191028702636054}. Best is trial 0 with value: 0.5.\u001b[0m\n",
      "\u001b[32m[I 2021-11-29 15:15:28,550]\u001b[0m Trial 23 finished with value: 0.5 and parameters: {'x': -4.6051073935447775}. Best is trial 0 with value: 0.5.\u001b[0m\n",
      "\u001b[32m[I 2021-11-29 15:15:28,562]\u001b[0m Trial 24 finished with value: 0.5 and parameters: {'x': -5.412042129419378}. Best is trial 0 with value: 0.5.\u001b[0m\n",
      "\u001b[32m[I 2021-11-29 15:15:28,575]\u001b[0m Trial 25 finished with value: 0.5 and parameters: {'x': 6.597624441702867}. Best is trial 0 with value: 0.5.\u001b[0m\n",
      "\u001b[32m[I 2021-11-29 15:15:28,584]\u001b[0m Trial 26 finished with value: 0.5 and parameters: {'x': -3.0248835565710697}. Best is trial 0 with value: 0.5.\u001b[0m\n",
      "\u001b[32m[I 2021-11-29 15:15:28,596]\u001b[0m Trial 27 finished with value: 0.5 and parameters: {'x': -5.620313087968826}. Best is trial 0 with value: 0.5.\u001b[0m\n",
      "\u001b[32m[I 2021-11-29 15:15:28,607]\u001b[0m Trial 28 finished with value: 0.5 and parameters: {'x': 9.935577745625631}. Best is trial 0 with value: 0.5.\u001b[0m\n",
      "\u001b[32m[I 2021-11-29 15:15:28,617]\u001b[0m Trial 29 finished with value: 0.5 and parameters: {'x': -2.4736618595840794}. Best is trial 0 with value: 0.5.\u001b[0m\n"
     ]
    },
    {
     "name": "stdout",
     "output_type": "stream",
     "text": [
      "Melhor execução: {'x': -1.6595599059485195}\n"
     ]
    }
   ],
   "source": [
    "class ObjetivoApDeMaquina:\n",
    "    def __init__(self,fold):\n",
    "        self.fold = fold\n",
    "    def __call__(self, trial: optuna.Trial):\n",
    "                #suponha que temos o parametro x para ajustar\n",
    "        x = trial.suggest_uniform('x', -10, 10)\n",
    "        \n",
    "        #navega em cada um dos folds de validação \n",
    "        soma = 0\n",
    "        for fold_validacao in fold.arr_folds_validacao:\n",
    "            #1. roda um metodo de aprendizado de maquina para o fold_validacao \n",
    "            #usando o parametro x\n",
    "            \n",
    "            #2. armazena resultado em resultado fold\n",
    "            resultado_fold = 0.5#colcoamos um resultado fixo para funcionar\n",
    "            \n",
    "            #3. faz o somatorio para a media\n",
    "            soma += resultado_fold\n",
    "        #4. a funcao objetivo é retornada como a media dos folds de validação\n",
    "        return soma/len(fold.arr_folds_validacao)\n",
    "def executa_fold(fold):\n",
    "\n",
    "    otimiza_fold = ObjetivoApDeMaquina(fold)\n",
    "    \n",
    "    tpe_sampler = TPESampler(n_startup_trials = 10,seed=1)\n",
    "    study_TP = optuna.create_study(sampler=tpe_sampler, direction=\"maximize\")\n",
    "    #colocamos 30 tentativas (destas, 10 serão aleatorias e, o restante, considerando o algoritmo)\n",
    "    study_TP.optimize(otimiza_fold, n_trials=30)\n",
    "    \n",
    "    print(f\"Melhor execução: {study_TP.best_trial.params}\")\n",
    "    #aplica o melhor parametro no teste\n",
    "    #...\n",
    "fold = Fold(Dados.df_treino,Dados.df_teste,\"realClass\",num_folds_validacao=5,num_repeticoes_validacao=2)\n",
    "executa_fold(fold)\n"
   ]
  },
  {
   "cell_type": "markdown",
   "metadata": {},
   "source": [
    "Para ficar mais flexivel ainda, como podemos possuir várias classes - uma para cada método -, podemos passar **classe como parametro**:"
   ]
  },
  {
   "cell_type": "code",
   "execution_count": 10,
   "metadata": {},
   "outputs": [
    {
     "name": "stderr",
     "output_type": "stream",
     "text": [
      "\u001b[32m[I 2021-11-29 15:15:28,666]\u001b[0m A new study created in memory with name: no-name-c40bb260-4e7d-49d2-beeb-3a1cf54abdbe\u001b[0m\n",
      "\u001b[32m[I 2021-11-29 15:15:28,670]\u001b[0m Trial 0 finished with value: 0.5 and parameters: {'x': -1.6595599059485195}. Best is trial 0 with value: 0.5.\u001b[0m\n",
      "\u001b[32m[I 2021-11-29 15:15:28,672]\u001b[0m Trial 1 finished with value: 0.5 and parameters: {'x': 4.4064898688431615}. Best is trial 0 with value: 0.5.\u001b[0m\n",
      "\u001b[32m[I 2021-11-29 15:15:28,675]\u001b[0m Trial 2 finished with value: 0.5 and parameters: {'x': -9.997712503653101}. Best is trial 0 with value: 0.5.\u001b[0m\n",
      "\u001b[32m[I 2021-11-29 15:15:28,680]\u001b[0m Trial 3 finished with value: 0.5 and parameters: {'x': -3.9533485473632046}. Best is trial 0 with value: 0.5.\u001b[0m\n",
      "\u001b[32m[I 2021-11-29 15:15:28,682]\u001b[0m Trial 4 finished with value: 0.5 and parameters: {'x': -7.064882183657739}. Best is trial 0 with value: 0.5.\u001b[0m\n",
      "\u001b[32m[I 2021-11-29 15:15:28,684]\u001b[0m Trial 5 finished with value: 0.5 and parameters: {'x': -8.153228104624045}. Best is trial 0 with value: 0.5.\u001b[0m\n",
      "\u001b[32m[I 2021-11-29 15:15:28,687]\u001b[0m Trial 6 finished with value: 0.5 and parameters: {'x': -6.274795772446582}. Best is trial 0 with value: 0.5.\u001b[0m\n",
      "\u001b[32m[I 2021-11-29 15:15:28,690]\u001b[0m Trial 7 finished with value: 0.5 and parameters: {'x': -3.0887854591390447}. Best is trial 0 with value: 0.5.\u001b[0m\n",
      "\u001b[32m[I 2021-11-29 15:15:28,695]\u001b[0m Trial 8 finished with value: 0.5 and parameters: {'x': -2.0646505153866013}. Best is trial 0 with value: 0.5.\u001b[0m\n",
      "\u001b[32m[I 2021-11-29 15:15:28,699]\u001b[0m Trial 9 finished with value: 0.5 and parameters: {'x': 0.7763346800671389}. Best is trial 0 with value: 0.5.\u001b[0m\n",
      "\u001b[32m[I 2021-11-29 15:15:28,709]\u001b[0m Trial 10 finished with value: 0.5 and parameters: {'x': 9.327633476993267}. Best is trial 0 with value: 0.5.\u001b[0m\n",
      "\u001b[32m[I 2021-11-29 15:15:28,719]\u001b[0m Trial 11 finished with value: 0.5 and parameters: {'x': 2.7044405141572696}. Best is trial 0 with value: 0.5.\u001b[0m\n",
      "\u001b[32m[I 2021-11-29 15:15:28,728]\u001b[0m Trial 12 finished with value: 0.5 and parameters: {'x': 4.789380089557979}. Best is trial 0 with value: 0.5.\u001b[0m\n",
      "\u001b[32m[I 2021-11-29 15:15:28,736]\u001b[0m Trial 13 finished with value: 0.5 and parameters: {'x': 7.017115839110525}. Best is trial 0 with value: 0.5.\u001b[0m\n",
      "\u001b[32m[I 2021-11-29 15:15:28,745]\u001b[0m Trial 14 finished with value: 0.5 and parameters: {'x': 1.5760566010985066}. Best is trial 0 with value: 0.5.\u001b[0m\n",
      "\u001b[32m[I 2021-11-29 15:15:28,758]\u001b[0m Trial 15 finished with value: 0.5 and parameters: {'x': 3.7967103330739453}. Best is trial 0 with value: 0.5.\u001b[0m\n",
      "\u001b[32m[I 2021-11-29 15:15:28,771]\u001b[0m Trial 16 finished with value: 0.5 and parameters: {'x': -0.8999255672623159}. Best is trial 0 with value: 0.5.\u001b[0m\n",
      "\u001b[32m[I 2021-11-29 15:15:28,782]\u001b[0m Trial 17 finished with value: 0.5 and parameters: {'x': 0.9695872395806382}. Best is trial 0 with value: 0.5.\u001b[0m\n",
      "\u001b[32m[I 2021-11-29 15:15:28,792]\u001b[0m Trial 18 finished with value: 0.5 and parameters: {'x': 4.637876244256079}. Best is trial 0 with value: 0.5.\u001b[0m\n",
      "\u001b[32m[I 2021-11-29 15:15:28,801]\u001b[0m Trial 19 finished with value: 0.5 and parameters: {'x': -1.2771261394587596}. Best is trial 0 with value: 0.5.\u001b[0m\n",
      "\u001b[32m[I 2021-11-29 15:15:28,811]\u001b[0m Trial 20 finished with value: 0.5 and parameters: {'x': -4.825497414455507}. Best is trial 0 with value: 0.5.\u001b[0m\n",
      "\u001b[32m[I 2021-11-29 15:15:28,822]\u001b[0m Trial 21 finished with value: 0.5 and parameters: {'x': 6.452915031251644}. Best is trial 0 with value: 0.5.\u001b[0m\n",
      "\u001b[32m[I 2021-11-29 15:15:28,833]\u001b[0m Trial 22 finished with value: 0.5 and parameters: {'x': -1.0191028702636054}. Best is trial 0 with value: 0.5.\u001b[0m\n",
      "\u001b[32m[I 2021-11-29 15:15:28,845]\u001b[0m Trial 23 finished with value: 0.5 and parameters: {'x': -4.6051073935447775}. Best is trial 0 with value: 0.5.\u001b[0m\n",
      "\u001b[32m[I 2021-11-29 15:15:28,859]\u001b[0m Trial 24 finished with value: 0.5 and parameters: {'x': -5.412042129419378}. Best is trial 0 with value: 0.5.\u001b[0m\n",
      "\u001b[32m[I 2021-11-29 15:15:28,871]\u001b[0m Trial 25 finished with value: 0.5 and parameters: {'x': 6.597624441702867}. Best is trial 0 with value: 0.5.\u001b[0m\n",
      "\u001b[32m[I 2021-11-29 15:15:28,880]\u001b[0m Trial 26 finished with value: 0.5 and parameters: {'x': -3.0248835565710697}. Best is trial 0 with value: 0.5.\u001b[0m\n",
      "\u001b[32m[I 2021-11-29 15:15:28,890]\u001b[0m Trial 27 finished with value: 0.5 and parameters: {'x': -5.620313087968826}. Best is trial 0 with value: 0.5.\u001b[0m\n",
      "\u001b[32m[I 2021-11-29 15:15:28,902]\u001b[0m Trial 28 finished with value: 0.5 and parameters: {'x': 9.935577745625631}. Best is trial 0 with value: 0.5.\u001b[0m\n",
      "\u001b[32m[I 2021-11-29 15:15:28,913]\u001b[0m Trial 29 finished with value: 0.5 and parameters: {'x': -2.4736618595840794}. Best is trial 0 with value: 0.5.\u001b[0m\n"
     ]
    },
    {
     "name": "stdout",
     "output_type": "stream",
     "text": [
      "Melhor execução: {'x': -1.6595599059485195}\n"
     ]
    }
   ],
   "source": [
    "class ObjetivoApDeMaquina:\n",
    "    def __init__(self,fold):\n",
    "        self.fold = fold\n",
    "    def __call__(self, trial: optuna.Trial):\n",
    "                #suponha que temos o parametro x para ajustar\n",
    "        x = trial.suggest_uniform('x', -10, 10)\n",
    "        \n",
    "        #navega em cada um dos folds de validação \n",
    "        soma = 0\n",
    "        for fold_validacao in fold.arr_folds_validacao:\n",
    "            #1. roda um metodo de aprendizado de maquina para o fold_validacao \n",
    "            #usando o parametro x\n",
    "            \n",
    "            #2. armazena resultado em resultado fold\n",
    "            resultado_fold = 0.5#colcoamos um resultado fixo para funcionar\n",
    "            \n",
    "            #3. faz o somatorio para a media\n",
    "            soma += resultado_fold\n",
    "        #4. a funcao objetivo é retornada como a media dos folds de validação\n",
    "        return soma/len(fold.arr_folds_validacao)\n",
    "def executa_fold(fold, ClasseObjetivo):\n",
    "\n",
    "    otimiza_fold = ClasseObjetivo(fold)\n",
    "    \n",
    "    tpe_sampler = TPESampler(n_startup_trials = 10,seed=1)\n",
    "    study_TP = optuna.create_study(sampler=tpe_sampler, direction=\"maximize\")\n",
    "    #colocamos 30 tentativas (destas, 10 serão aleatorias e, o restante, considerando o algoritmo)\n",
    "    study_TP.optimize(otimiza_fold, n_trials=30)\n",
    "    \n",
    "    print(f\"Melhor execução: {study_TP.best_trial.params}\")\n",
    "    #aplica o melhor parametro no teste\n",
    "    #...\n",
    "fold = Fold(Dados.df_treino,Dados.df_teste,\"realClass\",num_folds_validacao=5,num_repeticoes_validacao=2)\n",
    "executa_fold(fold, ObjetivoApDeMaquina)\n"
   ]
  },
  {
   "cell_type": "markdown",
   "metadata": {},
   "source": [
    "O código que vocês irão implementar será muito similar a esses. O arquivo `avaliacao.py` já possui o esqueleto do código para vocês continuarem. A classe `Experimento` é responsável por fazer toda a experimentação, por meio de uma lista de folds e um método de aprendizado de maquina (que são parametros do construtor): (1) para cada fold, descobre-se os melhores parametros usando o(s) fold(s) de validação; (2) com o melhor parametro, é criado o modelo e aplicado o teste. Essa classe é similar também a função `executa_fold` porém um pouco maior - aplicando-se a diversos folds e a um método de aprendizado de máquina em específico. \n",
    "\n",
    "Além disso, temos que implementar as classes de otimização de parametro. A classe `OtimizacaoObjetivo` é a superclasse que possui o esqueleto do que deve ser feito para a otimização de um parametro - similar ao funcionamento da classe `ObjetivoApDeMaquina` acima, porém, temos também um vetor `arr_evaluated_methods` que armazena o método foi executado em cada tentativa - com os seus parametros já definidos. \n",
    "\n",
    "Como pode-se observar, essa classe possui métodos abstratos (ou seja, que devem ser implementados pela suas subclasses). São eles: `obtem_metodo` e o `resultado-metrica_otimizacao`. Pois, cada subclasse será referente a um método (com seus parametros) e, dependendo do método, pode-se ser retornado um valor diferente em `resultado_metrica_otimizacao` (macro F1, por exemplo) dependendo, inclusive, do contexto do problema. Veja como a classe `OtimizacaoObjetivoArvoreDecisao`, uma das subclasses, está implementada. "
   ]
  },
  {
   "cell_type": "markdown",
   "metadata": {},
   "source": [
    "Assim, faça as seguintes atividades: "
   ]
  },
  {
   "cell_type": "markdown",
   "metadata": {},
   "source": [
    "**Atividade 4 classe OtimizacaoObjetivoRandomForest**: No método `obtem_metodo` crie um modelo para a [RandomForest do scikitlearn](http://scikit-learn.org/stable/modules/generated/sklearn.ensemble.RandomForestClassifier.html) que você deverá variar os seguintes parametros: \n",
    "    - min_samples_split: de 0 a 0.5\n",
    "    - max_features: de 0  a 0.5\n",
    "    - num_arvores: inteiro de 1 a `self.num_arvores_max` (use o suggest_int)\n",
    "O método `resultado_metrica_otimizacao` deve retornar a macro F1 do resultado passado como parametro. "
   ]
  },
  {
   "cell_type": "code",
   "execution_count": 18,
   "metadata": {},
   "outputs": [
    {
     "name": "stdout",
     "output_type": "stream",
     "text": [
      "\u001b[32m[I 2021-11-29 17:07:28,055]\u001b[0m A new study created in memory with name: no-name-ee699c40-f838-49f6-b655-248dc4fb0aac\u001b[0m\n",
      "/home/julia/pc acer/Programs/University/TEAM/ap-de-maquina-cefetmg-avaliacao/resultado.py:77: UndefinedMetricWarning: Não há elementos previstos para a classe 0 precisão foi definida como zero.\n",
      "  warnings.warn(\"Não há elementos previstos para a classe \"+str(classe)+\" precisão foi definida como zero.\", UndefinedMetricWarning)\n",
      "/home/julia/pc acer/Programs/University/TEAM/ap-de-maquina-cefetmg-avaliacao/resultado.py:77: UndefinedMetricWarning: Não há elementos previstos para a classe 0 precisão foi definida como zero.\n",
      "  warnings.warn(\"Não há elementos previstos para a classe \"+str(classe)+\" precisão foi definida como zero.\", UndefinedMetricWarning)\n",
      "\u001b[32m[I 2021-11-29 17:07:28,151]\u001b[0m Trial 0 finished with value: 0.3194444444444444 and parameters: {'min_samples_split': 0.208511002351287, 'max_features': 0.36016224672107905, 'num_arvores': 1}. Best is trial 0 with value: 0.3194444444444444.\u001b[0m\n",
      "/home/julia/pc acer/Programs/University/TEAM/ap-de-maquina-cefetmg-avaliacao/resultado.py:77: UndefinedMetricWarning: Não há elementos previstos para a classe 0 precisão foi definida como zero.\n",
      "  warnings.warn(\"Não há elementos previstos para a classe \"+str(classe)+\" precisão foi definida como zero.\", UndefinedMetricWarning)\n",
      "/home/julia/pc acer/Programs/University/TEAM/ap-de-maquina-cefetmg-avaliacao/resultado.py:77: UndefinedMetricWarning: Não há elementos previstos para a classe 0 precisão foi definida como zero.\n",
      "  warnings.warn(\"Não há elementos previstos para a classe \"+str(classe)+\" precisão foi definida como zero.\", UndefinedMetricWarning)\n",
      "\u001b[32m[I 2021-11-29 17:07:28,266]\u001b[0m Trial 1 finished with value: 0.3194444444444444 and parameters: {'min_samples_split': 0.15116628631591988, 'max_features': 0.07337794540855652, 'num_arvores': 1}. Best is trial 0 with value: 0.3194444444444444.\u001b[0m\n",
      "/home/julia/pc acer/Programs/University/TEAM/ap-de-maquina-cefetmg-avaliacao/resultado.py:77: UndefinedMetricWarning: Não há elementos previstos para a classe 1 precisão foi definida como zero.\n",
      "  warnings.warn(\"Não há elementos previstos para a classe \"+str(classe)+\" precisão foi definida como zero.\", UndefinedMetricWarning)\n",
      "/home/julia/pc acer/Programs/University/TEAM/ap-de-maquina-cefetmg-avaliacao/resultado.py:77: UndefinedMetricWarning: Não há elementos previstos para a classe 1 precisão foi definida como zero.\n",
      "  warnings.warn(\"Não há elementos previstos para a classe \"+str(classe)+\" precisão foi definida como zero.\", UndefinedMetricWarning)\n",
      "/home/julia/pc acer/Programs/University/TEAM/ap-de-maquina-cefetmg-avaliacao/resultado.py:77: UndefinedMetricWarning: Não há elementos previstos para a classe 1 precisão foi definida como zero.\n",
      "  warnings.warn(\"Não há elementos previstos para a classe \"+str(classe)+\" precisão foi definida como zero.\", UndefinedMetricWarning)\n",
      "/home/julia/pc acer/Programs/University/TEAM/ap-de-maquina-cefetmg-avaliacao/resultado.py:77: UndefinedMetricWarning: Não há elementos previstos para a classe 1 precisão foi definida como zero.\n",
      "  warnings.warn(\"Não há elementos previstos para a classe \"+str(classe)+\" precisão foi definida como zero.\", UndefinedMetricWarning)\n",
      "\u001b[32m[I 2021-11-29 17:07:28,406]\u001b[0m Trial 2 finished with value: 0.4055555555555556 and parameters: {'min_samples_split': 0.09313010568883545, 'max_features': 0.17278036352152387, 'num_arvores': 2}. Best is trial 2 with value: 0.4055555555555556.\u001b[0m\n",
      "/home/julia/pc acer/Programs/University/TEAM/ap-de-maquina-cefetmg-avaliacao/resultado.py:77: UndefinedMetricWarning: Não há elementos previstos para a classe 0 precisão foi definida como zero.\n",
      "  warnings.warn(\"Não há elementos previstos para a classe \"+str(classe)+\" precisão foi definida como zero.\", UndefinedMetricWarning)\n",
      "/home/julia/pc acer/Programs/University/TEAM/ap-de-maquina-cefetmg-avaliacao/resultado.py:77: UndefinedMetricWarning: Não há elementos previstos para a classe 1 precisão foi definida como zero.\n",
      "  warnings.warn(\"Não há elementos previstos para a classe \"+str(classe)+\" precisão foi definida como zero.\", UndefinedMetricWarning)\n",
      "/home/julia/pc acer/Programs/University/TEAM/ap-de-maquina-cefetmg-avaliacao/resultado.py:77: UndefinedMetricWarning: Não há elementos previstos para a classe 1 precisão foi definida como zero.\n",
      "  warnings.warn(\"Não há elementos previstos para a classe \"+str(classe)+\" precisão foi definida como zero.\", UndefinedMetricWarning)\n",
      "\u001b[32m[I 2021-11-29 17:07:28,542]\u001b[0m Trial 3 finished with value: 0.3277777777777778 and parameters: {'min_samples_split': 0.2694083670016785, 'max_features': 0.2095972572016474, 'num_arvores': 4}. Best is trial 2 with value: 0.4055555555555556.\u001b[0m\n",
      "/home/julia/pc acer/Programs/University/TEAM/ap-de-maquina-cefetmg-avaliacao/resultado.py:77: UndefinedMetricWarning: Não há elementos previstos para a classe 0 precisão foi definida como zero.\n",
      "  warnings.warn(\"Não há elementos previstos para a classe \"+str(classe)+\" precisão foi definida como zero.\", UndefinedMetricWarning)\n",
      "/home/julia/pc acer/Programs/University/TEAM/ap-de-maquina-cefetmg-avaliacao/resultado.py:77: UndefinedMetricWarning: Não há elementos previstos para a classe 0 precisão foi definida como zero.\n",
      "  warnings.warn(\"Não há elementos previstos para a classe \"+str(classe)+\" precisão foi definida como zero.\", UndefinedMetricWarning)\n",
      "\u001b[32m[I 2021-11-29 17:07:28,600]\u001b[0m Trial 4 finished with value: 0.3194444444444444 and parameters: {'min_samples_split': 0.10222612486575872, 'max_features': 0.4390587181954727, 'num_arvores': 1}. Best is trial 2 with value: 0.4055555555555556.\u001b[0m\n",
      "/home/julia/pc acer/Programs/University/TEAM/ap-de-maquina-cefetmg-avaliacao/resultado.py:77: UndefinedMetricWarning: Não há elementos previstos para a classe 0 precisão foi definida como zero.\n",
      "  warnings.warn(\"Não há elementos previstos para a classe \"+str(classe)+\" precisão foi definida como zero.\", UndefinedMetricWarning)\n",
      "/home/julia/pc acer/Programs/University/TEAM/ap-de-maquina-cefetmg-avaliacao/resultado.py:77: UndefinedMetricWarning: Não há elementos previstos para a classe 1 precisão foi definida como zero.\n",
      "  warnings.warn(\"Não há elementos previstos para a classe \"+str(classe)+\" precisão foi definida como zero.\", UndefinedMetricWarning)\n",
      "\u001b[32m[I 2021-11-29 17:07:28,683]\u001b[0m Trial 5 finished with value: 0.43253968253968256 and parameters: {'min_samples_split': 0.3352337550892011, 'max_features': 0.20865240118356349, 'num_arvores': 3}. Best is trial 5 with value: 0.43253968253968256.\u001b[0m\n",
      "/home/julia/pc acer/Programs/University/TEAM/ap-de-maquina-cefetmg-avaliacao/resultado.py:77: UndefinedMetricWarning: Não há elementos previstos para a classe 0 precisão foi definida como zero.\n",
      "  warnings.warn(\"Não há elementos previstos para a classe \"+str(classe)+\" precisão foi definida como zero.\", UndefinedMetricWarning)\n",
      "\u001b[32m[I 2021-11-29 17:07:29,776]\u001b[0m Trial 6 finished with value: 0.48055555555555557 and parameters: {'min_samples_split': 0.07019346929761688, 'max_features': 0.0990507445424394, 'num_arvores': 5}. Best is trial 6 with value: 0.48055555555555557.\u001b[0m\n",
      "/home/julia/pc acer/Programs/University/TEAM/ap-de-maquina-cefetmg-avaliacao/resultado.py:77: UndefinedMetricWarning: Não há elementos previstos para a classe 1 precisão foi definida como zero.\n",
      "  warnings.warn(\"Não há elementos previstos para a classe \"+str(classe)+\" precisão foi definida como zero.\", UndefinedMetricWarning)\n",
      "/home/julia/pc acer/Programs/University/TEAM/ap-de-maquina-cefetmg-avaliacao/resultado.py:77: UndefinedMetricWarning: Não há elementos previstos para a classe 0 precisão foi definida como zero.\n",
      "  warnings.warn(\"Não há elementos previstos para a classe \"+str(classe)+\" precisão foi definida como zero.\", UndefinedMetricWarning)\n",
      "/home/julia/pc acer/Programs/University/TEAM/ap-de-maquina-cefetmg-avaliacao/resultado.py:77: UndefinedMetricWarning: Não há elementos previstos para a classe 0 precisão foi definida como zero.\n",
      "  warnings.warn(\"Não há elementos previstos para a classe \"+str(classe)+\" precisão foi definida como zero.\", UndefinedMetricWarning)\n",
      "\u001b[32m[I 2021-11-29 17:07:29,895]\u001b[0m Trial 7 finished with value: 0.3333333333333333 and parameters: {'min_samples_split': 0.48413078785969876, 'max_features': 0.15671208907962142, 'num_arvores': 4}. Best is trial 6 with value: 0.48055555555555557.\u001b[0m\n",
      "/home/julia/pc acer/Programs/University/TEAM/ap-de-maquina-cefetmg-avaliacao/resultado.py:77: UndefinedMetricWarning: Não há elementos previstos para a classe 1 precisão foi definida como zero.\n",
      "  warnings.warn(\"Não há elementos previstos para a classe \"+str(classe)+\" precisão foi definida como zero.\", UndefinedMetricWarning)\n",
      "/home/julia/pc acer/Programs/University/TEAM/ap-de-maquina-cefetmg-avaliacao/resultado.py:77: UndefinedMetricWarning: Não há elementos previstos para a classe 1 precisão foi definida como zero.\n",
      "  warnings.warn(\"Não há elementos previstos para a classe \"+str(classe)+\" precisão foi definida como zero.\", UndefinedMetricWarning)\n",
      "/home/julia/pc acer/Programs/University/TEAM/ap-de-maquina-cefetmg-avaliacao/resultado.py:77: UndefinedMetricWarning: Não há elementos previstos para a classe 0 precisão foi definida como zero.\n",
      "  warnings.warn(\"Não há elementos previstos para a classe \"+str(classe)+\" precisão foi definida como zero.\", UndefinedMetricWarning)\n",
      "/home/julia/pc acer/Programs/University/TEAM/ap-de-maquina-cefetmg-avaliacao/resultado.py:77: UndefinedMetricWarning: Não há elementos previstos para a classe 0 precisão foi definida como zero.\n",
      "  warnings.warn(\"Não há elementos previstos para a classe \"+str(classe)+\" precisão foi definida como zero.\", UndefinedMetricWarning)\n",
      "/home/julia/pc acer/Programs/University/TEAM/ap-de-maquina-cefetmg-avaliacao/resultado.py:77: UndefinedMetricWarning: Não há elementos previstos para a classe 0 precisão foi definida como zero.\n",
      "  warnings.warn(\"Não há elementos previstos para a classe \"+str(classe)+\" precisão foi definida como zero.\", UndefinedMetricWarning)\n",
      "/home/julia/pc acer/Programs/University/TEAM/ap-de-maquina-cefetmg-avaliacao/resultado.py:77: UndefinedMetricWarning: Não há elementos previstos para a classe 1 precisão foi definida como zero.\n",
      "  warnings.warn(\"Não há elementos previstos para a classe \"+str(classe)+\" precisão foi definida como zero.\", UndefinedMetricWarning)\n",
      "\u001b[32m[I 2021-11-29 17:07:29,966]\u001b[0m Trial 8 finished with value: 0.3686507936507937 and parameters: {'min_samples_split': 0.43819457614801915, 'max_features': 0.44730333175192366, 'num_arvores': 1}. Best is trial 6 with value: 0.48055555555555557.\u001b[0m\n",
      "/home/julia/pc acer/Programs/University/TEAM/ap-de-maquina-cefetmg-avaliacao/resultado.py:77: UndefinedMetricWarning: Não há elementos previstos para a classe 0 precisão foi definida como zero.\n",
      "  warnings.warn(\"Não há elementos previstos para a classe \"+str(classe)+\" precisão foi definida como zero.\", UndefinedMetricWarning)\n",
      "\u001b[32m[I 2021-11-29 17:07:30,090]\u001b[0m Trial 9 finished with value: 0.48055555555555557 and parameters: {'min_samples_split': 0.01952739161644118, 'max_features': 0.08491520978228445, 'num_arvores': 5}. Best is trial 6 with value: 0.48055555555555557.\u001b[0m\n",
      "/home/julia/pc acer/Programs/University/TEAM/ap-de-maquina-cefetmg-avaliacao/resultado.py:77: UndefinedMetricWarning: Não há elementos previstos para a classe 0 precisão foi definida como zero.\n",
      "  warnings.warn(\"Não há elementos previstos para a classe \"+str(classe)+\" precisão foi definida como zero.\", UndefinedMetricWarning)\n",
      "\u001b[32m[I 2021-11-29 17:07:31,171]\u001b[0m Trial 10 finished with value: 0.48055555555555557 and parameters: {'min_samples_split': 0.0056894343988741075, 'max_features': 0.30853830073262456, 'num_arvores': 5}. Best is trial 6 with value: 0.48055555555555557.\u001b[0m\n",
      "/home/julia/pc acer/Programs/University/TEAM/ap-de-maquina-cefetmg-avaliacao/resultado.py:77: UndefinedMetricWarning: Não há elementos previstos para a classe 0 precisão foi definida como zero.\n",
      "  warnings.warn(\"Não há elementos previstos para a classe \"+str(classe)+\" precisão foi definida como zero.\", UndefinedMetricWarning)\n",
      "\u001b[32m[I 2021-11-29 17:07:31,334]\u001b[0m Trial 11 finished with value: 0.48055555555555557 and parameters: {'min_samples_split': 0.011689324655719533, 'max_features': 0.005334280560063229, 'num_arvores': 5}. Best is trial 6 with value: 0.48055555555555557.\u001b[0m\n",
      "/home/julia/pc acer/Programs/University/TEAM/ap-de-maquina-cefetmg-avaliacao/resultado.py:77: UndefinedMetricWarning: Não há elementos previstos para a classe 0 precisão foi definida como zero.\n",
      "  warnings.warn(\"Não há elementos previstos para a classe \"+str(classe)+\" precisão foi definida como zero.\", UndefinedMetricWarning)\n",
      "/home/julia/pc acer/Programs/University/TEAM/ap-de-maquina-cefetmg-avaliacao/resultado.py:77: UndefinedMetricWarning: Não há elementos previstos para a classe 1 precisão foi definida como zero.\n",
      "  warnings.warn(\"Não há elementos previstos para a classe \"+str(classe)+\" precisão foi definida como zero.\", UndefinedMetricWarning)\n",
      "/home/julia/pc acer/Programs/University/TEAM/ap-de-maquina-cefetmg-avaliacao/resultado.py:77: UndefinedMetricWarning: Não há elementos previstos para a classe 1 precisão foi definida como zero.\n",
      "  warnings.warn(\"Não há elementos previstos para a classe \"+str(classe)+\" precisão foi definida como zero.\", UndefinedMetricWarning)\n",
      "\u001b[32m[I 2021-11-29 17:07:31,502]\u001b[0m Trial 12 finished with value: 0.3277777777777778 and parameters: {'min_samples_split': 0.07508351026103648, 'max_features': 0.08401618438668257, 'num_arvores': 4}. Best is trial 6 with value: 0.48055555555555557.\u001b[0m\n",
      "/home/julia/pc acer/Programs/University/TEAM/ap-de-maquina-cefetmg-avaliacao/resultado.py:77: UndefinedMetricWarning: Não há elementos previstos para a classe 0 precisão foi definida como zero.\n",
      "  warnings.warn(\"Não há elementos previstos para a classe \"+str(classe)+\" precisão foi definida como zero.\", UndefinedMetricWarning)\n",
      "\u001b[32m[I 2021-11-29 17:07:31,686]\u001b[0m Trial 13 finished with value: 0.48055555555555557 and parameters: {'min_samples_split': 0.1784939212790243, 'max_features': 0.09650905991340228, 'num_arvores': 5}. Best is trial 6 with value: 0.48055555555555557.\u001b[0m\n",
      "/home/julia/pc acer/Programs/University/TEAM/ap-de-maquina-cefetmg-avaliacao/resultado.py:77: UndefinedMetricWarning: Não há elementos previstos para a classe 0 precisão foi definida como zero.\n",
      "  warnings.warn(\"Não há elementos previstos para a classe \"+str(classe)+\" precisão foi definida como zero.\", UndefinedMetricWarning)\n",
      "\u001b[32m[I 2021-11-29 17:07:31,825]\u001b[0m Trial 14 finished with value: 0.48055555555555557 and parameters: {'min_samples_split': 0.05646784849216781, 'max_features': 0.006770574371890631, 'num_arvores': 3}. Best is trial 6 with value: 0.48055555555555557.\u001b[0m\n",
      "/home/julia/pc acer/Programs/University/TEAM/ap-de-maquina-cefetmg-avaliacao/resultado.py:77: UndefinedMetricWarning: Não há elementos previstos para a classe 0 precisão foi definida como zero.\n",
      "  warnings.warn(\"Não há elementos previstos para a classe \"+str(classe)+\" precisão foi definida como zero.\", UndefinedMetricWarning)\n",
      "\u001b[32m[I 2021-11-29 17:07:31,969]\u001b[0m Trial 15 finished with value: 0.48055555555555557 and parameters: {'min_samples_split': 0.28097417012833037, 'max_features': 0.28338121689259343, 'num_arvores': 5}. Best is trial 6 with value: 0.48055555555555557.\u001b[0m\n",
      "/home/julia/pc acer/Programs/University/TEAM/ap-de-maquina-cefetmg-avaliacao/resultado.py:77: UndefinedMetricWarning: Não há elementos previstos para a classe 0 precisão foi definida como zero.\n",
      "  warnings.warn(\"Não há elementos previstos para a classe \"+str(classe)+\" precisão foi definida como zero.\", UndefinedMetricWarning)\n",
      "/home/julia/pc acer/Programs/University/TEAM/ap-de-maquina-cefetmg-avaliacao/resultado.py:77: UndefinedMetricWarning: Não há elementos previstos para a classe 1 precisão foi definida como zero.\n",
      "  warnings.warn(\"Não há elementos previstos para a classe \"+str(classe)+\" precisão foi definida como zero.\", UndefinedMetricWarning)\n",
      "/home/julia/pc acer/Programs/University/TEAM/ap-de-maquina-cefetmg-avaliacao/resultado.py:77: UndefinedMetricWarning: Não há elementos previstos para a classe 1 precisão foi definida como zero.\n",
      "  warnings.warn(\"Não há elementos previstos para a classe \"+str(classe)+\" precisão foi definida como zero.\", UndefinedMetricWarning)\n",
      "\u001b[32m[I 2021-11-29 17:07:32,140]\u001b[0m Trial 16 finished with value: 0.3277777777777778 and parameters: {'min_samples_split': 0.16220694648586173, 'max_features': 0.11950653183546248, 'num_arvores': 4}. Best is trial 6 with value: 0.48055555555555557.\u001b[0m\n",
      "/home/julia/pc acer/Programs/University/TEAM/ap-de-maquina-cefetmg-avaliacao/resultado.py:77: UndefinedMetricWarning: Não há elementos previstos para a classe 0 precisão foi definida como zero.\n",
      "  warnings.warn(\"Não há elementos previstos para a classe \"+str(classe)+\" precisão foi definida como zero.\", UndefinedMetricWarning)\n",
      "\u001b[32m[I 2021-11-29 17:07:32,311]\u001b[0m Trial 17 finished with value: 0.48055555555555557 and parameters: {'min_samples_split': 0.17526772753253428, 'max_features': 0.0011975225497460528, 'num_arvores': 3}. Best is trial 6 with value: 0.48055555555555557.\u001b[0m\n",
      "/home/julia/pc acer/Programs/University/TEAM/ap-de-maquina-cefetmg-avaliacao/resultado.py:77: UndefinedMetricWarning: Não há elementos previstos para a classe 1 precisão foi definida como zero.\n",
      "  warnings.warn(\"Não há elementos previstos para a classe \"+str(classe)+\" precisão foi definida como zero.\", UndefinedMetricWarning)\n",
      "/home/julia/pc acer/Programs/University/TEAM/ap-de-maquina-cefetmg-avaliacao/resultado.py:77: UndefinedMetricWarning: Não há elementos previstos para a classe 1 precisão foi definida como zero.\n",
      "  warnings.warn(\"Não há elementos previstos para a classe \"+str(classe)+\" precisão foi definida como zero.\", UndefinedMetricWarning)\n",
      "/home/julia/pc acer/Programs/University/TEAM/ap-de-maquina-cefetmg-avaliacao/resultado.py:77: UndefinedMetricWarning: Não há elementos previstos para a classe 1 precisão foi definida como zero.\n",
      "  warnings.warn(\"Não há elementos previstos para a classe \"+str(classe)+\" precisão foi definida como zero.\", UndefinedMetricWarning)\n",
      "\u001b[32m[I 2021-11-29 17:07:32,432]\u001b[0m Trial 18 finished with value: 0.325 and parameters: {'min_samples_split': 0.3151518390913983, 'max_features': 0.3086885811953013, 'num_arvores': 2}. Best is trial 6 with value: 0.48055555555555557.\u001b[0m\n",
      "\u001b[32m[I 2021-11-29 17:07:32,576]\u001b[0m Trial 19 finished with value: 0.4777777777777778 and parameters: {'min_samples_split': 0.34475916684503094, 'max_features': 0.27500606449273607, 'num_arvores': 5}. Best is trial 6 with value: 0.48055555555555557.\u001b[0m\n",
      "/home/julia/pc acer/Programs/University/TEAM/ap-de-maquina-cefetmg-avaliacao/resultado.py:77: UndefinedMetricWarning: Não há elementos previstos para a classe 0 precisão foi definida como zero.\n",
      "  warnings.warn(\"Não há elementos previstos para a classe \"+str(classe)+\" precisão foi definida como zero.\", UndefinedMetricWarning)\n",
      "\u001b[32m[I 2021-11-29 17:07:32,715]\u001b[0m Trial 20 finished with value: 0.48055555555555557 and parameters: {'min_samples_split': 0.22815648495683616, 'max_features': 0.04281543955507527, 'num_arvores': 3}. Best is trial 6 with value: 0.48055555555555557.\u001b[0m\n",
      "/home/julia/pc acer/Programs/University/TEAM/ap-de-maquina-cefetmg-avaliacao/resultado.py:77: UndefinedMetricWarning: Não há elementos previstos para a classe 0 precisão foi definida como zero.\n",
      "  warnings.warn(\"Não há elementos previstos para a classe \"+str(classe)+\" precisão foi definida como zero.\", UndefinedMetricWarning)\n",
      "\u001b[32m[I 2021-11-29 17:07:32,853]\u001b[0m Trial 21 finished with value: 0.48055555555555557 and parameters: {'min_samples_split': 0.2732795449421657, 'max_features': 0.3584909867594094, 'num_arvores': 3}. Best is trial 6 with value: 0.48055555555555557.\u001b[0m\n",
      "/home/julia/pc acer/Programs/University/TEAM/ap-de-maquina-cefetmg-avaliacao/resultado.py:77: UndefinedMetricWarning: Não há elementos previstos para a classe 1 precisão foi definida como zero.\n",
      "  warnings.warn(\"Não há elementos previstos para a classe \"+str(classe)+\" precisão foi definida como zero.\", UndefinedMetricWarning)\n",
      "/home/julia/pc acer/Programs/University/TEAM/ap-de-maquina-cefetmg-avaliacao/resultado.py:77: UndefinedMetricWarning: Não há elementos previstos para a classe 1 precisão foi definida como zero.\n",
      "  warnings.warn(\"Não há elementos previstos para a classe \"+str(classe)+\" precisão foi definida como zero.\", UndefinedMetricWarning)\n",
      "\u001b[32m[I 2021-11-29 17:07:32,978]\u001b[0m Trial 22 finished with value: 0.375 and parameters: {'min_samples_split': 0.4057507316851299, 'max_features': 0.32503420680319073, 'num_arvores': 2}. Best is trial 6 with value: 0.48055555555555557.\u001b[0m\n",
      "/home/julia/pc acer/Programs/University/TEAM/ap-de-maquina-cefetmg-avaliacao/resultado.py:77: UndefinedMetricWarning: Não há elementos previstos para a classe 0 precisão foi definida como zero.\n",
      "  warnings.warn(\"Não há elementos previstos para a classe \"+str(classe)+\" precisão foi definida como zero.\", UndefinedMetricWarning)\n",
      "\u001b[32m[I 2021-11-29 17:07:33,129]\u001b[0m Trial 23 finished with value: 0.48055555555555557 and parameters: {'min_samples_split': 0.2213419995143751, 'max_features': 0.03363738131632073, 'num_arvores': 3}. Best is trial 6 with value: 0.48055555555555557.\u001b[0m\n",
      "/home/julia/pc acer/Programs/University/TEAM/ap-de-maquina-cefetmg-avaliacao/resultado.py:77: UndefinedMetricWarning: Não há elementos previstos para a classe 0 precisão foi definida como zero.\n",
      "  warnings.warn(\"Não há elementos previstos para a classe \"+str(classe)+\" precisão foi definida como zero.\", UndefinedMetricWarning)\n",
      "/home/julia/pc acer/Programs/University/TEAM/ap-de-maquina-cefetmg-avaliacao/resultado.py:77: UndefinedMetricWarning: Não há elementos previstos para a classe 1 precisão foi definida como zero.\n",
      "  warnings.warn(\"Não há elementos previstos para a classe \"+str(classe)+\" precisão foi definida como zero.\", UndefinedMetricWarning)\n",
      "\u001b[32m[I 2021-11-29 17:07:33,267]\u001b[0m Trial 24 finished with value: 0.43253968253968256 and parameters: {'min_samples_split': 0.3745707721879741, 'max_features': 0.3904484798099428, 'num_arvores': 3}. Best is trial 6 with value: 0.48055555555555557.\u001b[0m\n",
      "/home/julia/pc acer/Programs/University/TEAM/ap-de-maquina-cefetmg-avaliacao/resultado.py:77: UndefinedMetricWarning: Não há elementos previstos para a classe 1 precisão foi definida como zero.\n",
      "  warnings.warn(\"Não há elementos previstos para a classe \"+str(classe)+\" precisão foi definida como zero.\", UndefinedMetricWarning)\n",
      "/home/julia/pc acer/Programs/University/TEAM/ap-de-maquina-cefetmg-avaliacao/resultado.py:77: UndefinedMetricWarning: Não há elementos previstos para a classe 1 precisão foi definida como zero.\n",
      "  warnings.warn(\"Não há elementos previstos para a classe \"+str(classe)+\" precisão foi definida como zero.\", UndefinedMetricWarning)\n",
      "/home/julia/pc acer/Programs/University/TEAM/ap-de-maquina-cefetmg-avaliacao/resultado.py:77: UndefinedMetricWarning: Não há elementos previstos para a classe 1 precisão foi definida como zero.\n",
      "  warnings.warn(\"Não há elementos previstos para a classe \"+str(classe)+\" precisão foi definida como zero.\", UndefinedMetricWarning)\n",
      "/home/julia/pc acer/Programs/University/TEAM/ap-de-maquina-cefetmg-avaliacao/resultado.py:77: UndefinedMetricWarning: Não há elementos previstos para a classe 1 precisão foi definida como zero.\n",
      "  warnings.warn(\"Não há elementos previstos para a classe \"+str(classe)+\" precisão foi definida como zero.\", UndefinedMetricWarning)\n",
      "\u001b[32m[I 2021-11-29 17:07:33,419]\u001b[0m Trial 25 finished with value: 0.4055555555555556 and parameters: {'min_samples_split': 0.1267901938000222, 'max_features': 0.23775734330305634, 'num_arvores': 2}. Best is trial 6 with value: 0.48055555555555557.\u001b[0m\n",
      "/home/julia/pc acer/Programs/University/TEAM/ap-de-maquina-cefetmg-avaliacao/resultado.py:77: UndefinedMetricWarning: Não há elementos previstos para a classe 0 precisão foi definida como zero.\n",
      "  warnings.warn(\"Não há elementos previstos para a classe \"+str(classe)+\" precisão foi definida como zero.\", UndefinedMetricWarning)\n",
      "/home/julia/pc acer/Programs/University/TEAM/ap-de-maquina-cefetmg-avaliacao/resultado.py:77: UndefinedMetricWarning: Não há elementos previstos para a classe 1 precisão foi definida como zero.\n",
      "  warnings.warn(\"Não há elementos previstos para a classe \"+str(classe)+\" precisão foi definida como zero.\", UndefinedMetricWarning)\n",
      "/home/julia/pc acer/Programs/University/TEAM/ap-de-maquina-cefetmg-avaliacao/resultado.py:77: UndefinedMetricWarning: Não há elementos previstos para a classe 1 precisão foi definida como zero.\n",
      "  warnings.warn(\"Não há elementos previstos para a classe \"+str(classe)+\" precisão foi definida como zero.\", UndefinedMetricWarning)\n",
      "\u001b[32m[I 2021-11-29 17:07:33,635]\u001b[0m Trial 26 finished with value: 0.3277777777777778 and parameters: {'min_samples_split': 0.20485973204254565, 'max_features': 0.04642161891406711, 'num_arvores': 4}. Best is trial 6 with value: 0.48055555555555557.\u001b[0m\n",
      "/home/julia/pc acer/Programs/University/TEAM/ap-de-maquina-cefetmg-avaliacao/resultado.py:77: UndefinedMetricWarning: Não há elementos previstos para a classe 0 precisão foi definida como zero.\n",
      "  warnings.warn(\"Não há elementos previstos para a classe \"+str(classe)+\" precisão foi definida como zero.\", UndefinedMetricWarning)\n",
      "/home/julia/pc acer/Programs/University/TEAM/ap-de-maquina-cefetmg-avaliacao/resultado.py:77: UndefinedMetricWarning: Não há elementos previstos para a classe 1 precisão foi definida como zero.\n",
      "  warnings.warn(\"Não há elementos previstos para a classe \"+str(classe)+\" precisão foi definida como zero.\", UndefinedMetricWarning)\n",
      "\u001b[32m[I 2021-11-29 17:07:33,835]\u001b[0m Trial 27 finished with value: 0.30277777777777776 and parameters: {'min_samples_split': 0.2959807402118413, 'max_features': 0.14025414882189197, 'num_arvores': 4}. Best is trial 6 with value: 0.48055555555555557.\u001b[0m\n",
      "/home/julia/pc acer/Programs/University/TEAM/ap-de-maquina-cefetmg-avaliacao/resultado.py:77: UndefinedMetricWarning: Não há elementos previstos para a classe 0 precisão foi definida como zero.\n",
      "  warnings.warn(\"Não há elementos previstos para a classe \"+str(classe)+\" precisão foi definida como zero.\", UndefinedMetricWarning)\n",
      "\u001b[32m[I 2021-11-29 17:07:33,983]\u001b[0m Trial 28 finished with value: 0.48055555555555557 and parameters: {'min_samples_split': 0.24308877366082682, 'max_features': 0.47980506770172665, 'num_arvores': 3}. Best is trial 6 with value: 0.48055555555555557.\u001b[0m\n",
      "/home/julia/pc acer/Programs/University/TEAM/ap-de-maquina-cefetmg-avaliacao/resultado.py:77: UndefinedMetricWarning: Não há elementos previstos para a classe 0 precisão foi definida como zero.\n",
      "  warnings.warn(\"Não há elementos previstos para a classe \"+str(classe)+\" precisão foi definida como zero.\", UndefinedMetricWarning)\n",
      "\u001b[32m[I 2021-11-29 17:07:34,157]\u001b[0m Trial 29 finished with value: 0.48055555555555557 and parameters: {'min_samples_split': 0.0519338410201044, 'max_features': 0.3833142752991545, 'num_arvores': 3}. Best is trial 6 with value: 0.48055555555555557.\u001b[0m\n",
      "{'min_samples_split': 0.208511002351287, 'max_features': 0.36016224672107905, 'num_arvores': 1}\n",
      "{'min_samples_split': 0.15116628631591988, 'max_features': 0.07337794540855652, 'num_arvores': 1}\n",
      "{'min_samples_split': 0.09313010568883545, 'max_features': 0.17278036352152387, 'num_arvores': 2}\n",
      "{'min_samples_split': 0.2694083670016785, 'max_features': 0.2095972572016474, 'num_arvores': 4}\n",
      "{'min_samples_split': 0.10222612486575872, 'max_features': 0.4390587181954727, 'num_arvores': 1}\n",
      "{'min_samples_split': 0.3352337550892011, 'max_features': 0.20865240118356349, 'num_arvores': 3}\n",
      "{'min_samples_split': 0.07019346929761688, 'max_features': 0.0990507445424394, 'num_arvores': 5}\n",
      "{'min_samples_split': 0.48413078785969876, 'max_features': 0.15671208907962142, 'num_arvores': 4}\n",
      "{'min_samples_split': 0.43819457614801915, 'max_features': 0.44730333175192366, 'num_arvores': 1}\n",
      "{'min_samples_split': 0.01952739161644118, 'max_features': 0.08491520978228445, 'num_arvores': 5}\n",
      "{'min_samples_split': 0.0056894343988741075, 'max_features': 0.30853830073262456, 'num_arvores': 5}\n",
      "{'min_samples_split': 0.011689324655719533, 'max_features': 0.005334280560063229, 'num_arvores': 5}\n",
      "{'min_samples_split': 0.07508351026103648, 'max_features': 0.08401618438668257, 'num_arvores': 4}\n",
      "{'min_samples_split': 0.1784939212790243, 'max_features': 0.09650905991340228, 'num_arvores': 5}\n",
      "{'min_samples_split': 0.05646784849216781, 'max_features': 0.006770574371890631, 'num_arvores': 3}\n",
      "{'min_samples_split': 0.28097417012833037, 'max_features': 0.28338121689259343, 'num_arvores': 5}\n",
      "{'min_samples_split': 0.16220694648586173, 'max_features': 0.11950653183546248, 'num_arvores': 4}\n",
      "{'min_samples_split': 0.17526772753253428, 'max_features': 0.0011975225497460528, 'num_arvores': 3}\n",
      "{'min_samples_split': 0.3151518390913983, 'max_features': 0.3086885811953013, 'num_arvores': 2}\n",
      "{'min_samples_split': 0.34475916684503094, 'max_features': 0.27500606449273607, 'num_arvores': 5}\n",
      "{'min_samples_split': 0.22815648495683616, 'max_features': 0.04281543955507527, 'num_arvores': 3}\n",
      "{'min_samples_split': 0.2732795449421657, 'max_features': 0.3584909867594094, 'num_arvores': 3}\n",
      "{'min_samples_split': 0.4057507316851299, 'max_features': 0.32503420680319073, 'num_arvores': 2}\n",
      "{'min_samples_split': 0.2213419995143751, 'max_features': 0.03363738131632073, 'num_arvores': 3}\n",
      "{'min_samples_split': 0.3745707721879741, 'max_features': 0.3904484798099428, 'num_arvores': 3}\n",
      "{'min_samples_split': 0.1267901938000222, 'max_features': 0.23775734330305634, 'num_arvores': 2}\n",
      "{'min_samples_split': 0.20485973204254565, 'max_features': 0.04642161891406711, 'num_arvores': 4}\n",
      "{'min_samples_split': 0.2959807402118413, 'max_features': 0.14025414882189197, 'num_arvores': 4}\n",
      "{'min_samples_split': 0.24308877366082682, 'max_features': 0.47980506770172665, 'num_arvores': 3}\n",
      "{'min_samples_split': 0.0519338410201044, 'max_features': 0.3833142752991545, 'num_arvores': 3}\n",
      "F\n",
      "======================================================================\n",
      "FAIL: test_otimizacao (__main__.TestObjetivoOtimizacaoRF)\n",
      "----------------------------------------------------------------------\n",
      "Traceback (most recent call last):\n",
      "  File \"/home/julia/pc acer/Programs/University/TEAM/ap-de-maquina-cefetmg-avaliacao/tests.py\", line 211, in test_otimizacao\n",
      "    self.assertAlmostEqual(study_TP.best_trial.params[\"min_samples_split\"],0.19829036364801306,places=5,msg=\"Otimização não deu resultado esperado\")\n",
      "AssertionError: 0.07019346929761688 != 0.19829036364801306 within 5 places : Otimização não deu resultado esperado\n",
      "\n",
      "----------------------------------------------------------------------\n",
      "Ran 1 test in 6.116s\n",
      "\n",
      "FAILED (failures=1)\n"
     ]
    }
   ],
   "source": [
    "!python3 -m tests TestObjetivoOtimizacaoRF.test_otimizacao"
   ]
  },
  {
   "cell_type": "markdown",
   "metadata": {},
   "source": [
    "- O warning é que, em alguns casos, em alguma classe, não há previsão para a mesma e, assim, daria divisão por zero. Como é um exemplo pequeno, isso é natural ocorrer. Se fosse um exemplo real, seria interessante investigar para evitar que uma classe não tenha previsão. Por exemplo: será que existe exemplos o suficiente para esta classe? "
   ]
  },
  {
   "cell_type": "markdown",
   "metadata": {},
   "source": [
    "**Atividade 5 - método `calcula_resultados` da classe Experimento**: Esse método deve calcular os resultados para cada fold (navegando no atributo `folds`) e, para isso, se houver fold de validação e tiver uma classe de otimização definida, deve obter o melhor método nos folds de validação e aplicá-lo no teste para obter o resultado. \n",
    "\n"
   ]
  },
  {
   "cell_type": "code",
   "execution_count": null,
   "metadata": {},
   "outputs": [],
   "source": [
    "!python3 -m tests ExperimentoTest.test_resultados"
   ]
  },
  {
   "cell_type": "markdown",
   "metadata": {},
   "source": [
    "**Atividade 6 - propriedade (atributo calculado) macro_f1_avg: ** Usando os resultados no teste (atributo resultados) calcule o macro f1 médio."
   ]
  },
  {
   "cell_type": "code",
   "execution_count": null,
   "metadata": {
    "scrolled": false
   },
   "outputs": [],
   "source": [
    "!python3 -m tests ExperimentoTest.test_macro_f1_avg"
   ]
  },
  {
   "cell_type": "markdown",
   "metadata": {},
   "source": [
    "## Análise dos parametros"
   ]
  },
  {
   "cell_type": "markdown",
   "metadata": {},
   "source": [
    "Nesta parte você irá ver uma representação tabular e grafica que o auxiliará para analise de parametros. A representação grafica é por meio do hiplot. "
   ]
  },
  {
   "cell_type": "code",
   "execution_count": null,
   "metadata": {},
   "outputs": [],
   "source": [
    "import hiplot as hip \n",
    "from sklearn.ensemble import RandomForestClassifier\n",
    "import optuna\n",
    "\n",
    "from avaliacao import Experimento, OtimizacaoObjetivoRandomForest, Experimento\n",
    "from resultado import Resultado,Fold\n",
    "from metodo import ScikitLearnAprendizadoDeMaquina\n",
    "from tests import Dados\n",
    "\n",
    "\n",
    "#gera o fold e p experimento\n",
    "folds = Fold.gerar_k_folds(Dados.df_dados,val_k=5,col_classe=\"realClass\",\n",
    "                            num_repeticoes=1,seed=1,\n",
    "                            num_folds_validacao=3,num_repeticoes_validacao=2)\n",
    "\n",
    "clf_dtree = RandomForestClassifier(random_state=1)\n",
    "ml_method = ScikitLearnAprendizadoDeMaquina(clf_dtree)\n",
    "exp = Experimento(folds,ml_method, OtimizacaoObjetivoRandomForest, num_trials=10,\n",
    "                    sampler=optuna.samplers.TPESampler(seed=1, n_startup_trials=3))\n",
    "exp.calcula_resultados()\n",
    "\n"
   ]
  },
  {
   "cell_type": "markdown",
   "metadata": {},
   "source": [
    "Forma tabular via dataframe:"
   ]
  },
  {
   "cell_type": "code",
   "execution_count": null,
   "metadata": {},
   "outputs": [],
   "source": [
    "studdy_fold_0 = exp.studies_per_fold[0]\n",
    "studdy_fold_0.trials_dataframe().sort_values(\"value\",ascending=False)"
   ]
  },
  {
   "cell_type": "code",
   "execution_count": null,
   "metadata": {},
   "outputs": [],
   "source": [
    "#gera grafico da variacao de parametros (apenas fold 0)\n",
    "trials_fold_0 = exp.studies_per_fold[0].trials\n",
    "data = [{**trial.params, 'loss': trial.value} for trial in trials_fold_0]\n",
    "#data = [{'dropout':0.1, 'lr': 0.001, 'loss': 10.0, 'optimizer': 'SGD'}, {'dropout':0.15, 'lr': 0.01, 'loss': 3.5, 'optimizer': 'Adam'}, {'dropout':0.3, 'lr': 0.1, 'loss': 4.5, 'optimizer': 'Adam'}]\n",
    "hip.Experiment.from_iterable(data).display(force_full_width=True)"
   ]
  },
  {
   "cell_type": "markdown",
   "metadata": {},
   "source": [
    "Você analisou só um fold. Pode-se analisar diversos folds e, principalmente, ver se os melhores parametros de um fold é muito parecido ou não que o outro. Para a prática, fizemos com poucas tentativas. O ideal também é fazemos tentativas. Pelo menos centenas , porém, caso esteja muito dificil de encontrar parametros com bons resultados - ou a quantidade de parametros seja muito grande - seria interessante milhares. Sobre a quantidade de folds, geralmente usa-se muito 10 folds. \n",
    "\n",
    "A quantidade de tentativas e folds é um dos motivos que o tempo de execução e obtenção dos resultados de um método é muito demorada (podendo, as vezes, demorar dias/semanas). Por isso também, é muito importante salvar o modelo criado."
   ]
  }
 ],
 "metadata": {
  "kernelspec": {
   "display_name": "Python 3",
   "language": "python",
   "name": "python3"
  },
  "language_info": {
   "codemirror_mode": {
    "name": "ipython",
    "version": 3
   },
   "file_extension": ".py",
   "mimetype": "text/x-python",
   "name": "python",
   "nbconvert_exporter": "python",
   "pygments_lexer": "ipython3",
   "version": "3.6.9"
  }
 },
 "nbformat": 4,
 "nbformat_minor": 2
}
